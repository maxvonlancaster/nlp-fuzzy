{
 "cells": [
  {
   "cell_type": "markdown",
   "id": "283d045e",
   "metadata": {},
   "source": [
    "# Using evolutionary algorithms to optimize graphql requests"
   ]
  },
  {
   "cell_type": "markdown",
   "id": "37efcad3",
   "metadata": {},
   "source": [
    "**The brief overview of the idea**\n",
    "\n",
    "TODO: describe"
   ]
  },
  {
   "cell_type": "markdown",
   "id": "5353d181",
   "metadata": {},
   "source": [
    "*Step 1. Backend server in fast api with graphql endpoint*\n",
    "\n",
    "After start, goto: http://127.0.0.1:8000/graphql\n",
    "\n",
    "Request example:\n",
    "```\n",
    "{\n",
    "  allPeople {\n",
    "    id\n",
    "    name\n",
    "    age\n",
    "  }\n",
    "}\n",
    "```"
   ]
  },
  {
   "cell_type": "code",
   "execution_count": 4,
   "id": "c63c1f70",
   "metadata": {},
   "outputs": [
    {
     "name": "stderr",
     "output_type": "stream",
     "text": [
      "INFO:     Started server process [13048]\n",
      "INFO:     Waiting for application startup.\n",
      "INFO:     Application startup complete.\n",
      "INFO:     Uvicorn running on http://127.0.0.1:8000 (Press CTRL+C to quit)\n"
     ]
    },
    {
     "name": "stdout",
     "output_type": "stream",
     "text": [
      "INFO:     127.0.0.1:61288 - \"GET /graphql HTTP/1.1\" 200 OK\n",
      "INFO:     127.0.0.1:61288 - \"POST /graphql HTTP/1.1\" 200 OK\n",
      "INFO:     127.0.0.1:61403 - \"POST /graphql HTTP/1.1\" 200 OK\n"
     ]
    },
    {
     "name": "stderr",
     "output_type": "stream",
     "text": [
      "INFO:     Shutting down\n",
      "INFO:     Waiting for application shutdown.\n",
      "INFO:     Application shutdown complete.\n",
      "INFO:     Finished server process [13048]\n"
     ]
    }
   ],
   "source": [
    "import json\n",
    "import strawberry\n",
    "from fastapi import FastAPI\n",
    "from strawberry.fastapi import GraphQLRouter\n",
    "import uvicorn\n",
    "import nest_asyncio\n",
    "\n",
    "# Needed to allow uvicorn to run inside Jupyter\n",
    "nest_asyncio.apply()\n",
    "\n",
    "# Load your JSON data\n",
    "with open(\"../resources/sets/data-1.json\") as f:\n",
    "    people_data = json.load(f)\n",
    "\n",
    "@strawberry.type\n",
    "class Person:\n",
    "    id: int\n",
    "    name: str\n",
    "    age: int\n",
    "\n",
    "@strawberry.type\n",
    "class Query:\n",
    "    @strawberry.field\n",
    "    def all_people(self) -> list[Person]:\n",
    "        return [Person(**person) for person in people_data]\n",
    "\n",
    "# Setup GraphQL\n",
    "schema = strawberry.Schema(query=Query)\n",
    "graphql_app = GraphQLRouter(schema)\n",
    "\n",
    "# Create FastAPI app\n",
    "app = FastAPI()\n",
    "app.include_router(graphql_app, prefix=\"/graphql\")\n",
    "\n",
    "# Run the server inline\n",
    "uvicorn.run(app, host=\"127.0.0.1\", port=8000)\n",
    "\n",
    "# ../resources/sets/data-1.json"
   ]
  }
 ],
 "metadata": {
  "kernelspec": {
   "display_name": "Python 3",
   "language": "python",
   "name": "python3"
  },
  "language_info": {
   "codemirror_mode": {
    "name": "ipython",
    "version": 3
   },
   "file_extension": ".py",
   "mimetype": "text/x-python",
   "name": "python",
   "nbconvert_exporter": "python",
   "pygments_lexer": "ipython3",
   "version": "3.10.0"
  }
 },
 "nbformat": 4,
 "nbformat_minor": 5
}
