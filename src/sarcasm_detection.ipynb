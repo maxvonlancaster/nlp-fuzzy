{
 "cells": [
  {
   "cell_type": "markdown",
   "metadata": {},
   "source": [
    "# Sarcasm detection"
   ]
  },
  {
   "cell_type": "markdown",
   "metadata": {},
   "source": [
    "## ideas:\n",
    "- автоматичне виявлення сарказму в соц мережах (твіттер etc)\n",
    "- генерація саркастичних висловлювань \n",
    "- аналіз впливу емодзі пунктуація \n",
    "- сарказм у різних культурах порівняння \n",
    "- в політичних текстах\n",
    "- в мультимодальному контексті (текст зображення голос)\n",
    "- у новинах та заголовках\n",
    "- \n",
    "- "
   ]
  },
  {
   "cell_type": "markdown",
   "metadata": {},
   "source": [
    "![sarcasm](../images/sarcasm.png)"
   ]
  },
  {
   "cell_type": "code",
   "execution_count": 1,
   "metadata": {},
   "outputs": [],
   "source": [
    "# imports section\n",
    "import numpy as np\n",
    "import math\n",
    "from numpy import dot\n",
    "from numpy.linalg import norm\n",
    "from gensim import corpora, models, similarities\n",
    "import string\n",
    "import pandas as pd\n",
    "import csv\n",
    "import matplotlib.pyplot as plt\n",
    "\n",
    "import gensim.downloader as api\n",
    "from gensim.models import Word2Vec\n",
    "\n",
    "import itertools"
   ]
  },
  {
   "cell_type": "markdown",
   "metadata": {},
   "source": [
    "## Assign mood scores"
   ]
  },
  {
   "cell_type": "code",
   "execution_count": 2,
   "metadata": {},
   "outputs": [],
   "source": [
    "lexicon = {\n",
    "    \"anxious\": 0.1, \"furious\": 0.0, \"peaceful\": 0.9, \"hate\": 0.0, \"joyful\": 0.9, \n",
    "    \"unacceptable\": 0.1, \"thrilled\": 0.9, \"infuriating\": 0.1, \"irate\": 0.1, \n",
    "    \"terrible\": 0.1, \"nervous\": 0.2, \"melancholy\": 0.3, \"depressed\": 0.1, \n",
    "    \"gloomy\": 0.1, \"serene\": 0.8, \"elated\": 0.8, \"ecstatic\": 0.9, \"overjoyed\": 0.9,\n",
    "    \"gleeful\": 0.7, \"cheerful\": 0.7, \"optimistic\": 0.7, \"buoyant\": 0.6, \n",
    "    \"enthusiastic\": 0.7, \"upbeat\": 0.6, \"festive\": 0.6, \"playful\": 0.6,\n",
    "    \"vivacious\": 0.6, \"amused\": 0.7, \"blissful\": 0.6, \"grateful\": 0.8,\n",
    "    \"tranquil\": 0.8, \"relaxed\": 0.7, \"comfortable\": 0.6, \"cozy\": 0.6,\n",
    "    \"warm\": 0.6, \"inviting\": 0.6,  \"satisfied\": 0.5, \"pleasant\": 0.6, \n",
    "    \"pleased\" : 0.7, \"happy\": 0.8\n",
    "    }"
   ]
  },
  {
   "cell_type": "markdown",
   "metadata": {},
   "source": [
    "## Read adjectives from txt file and define array of given adjactive scores"
   ]
  },
  {
   "cell_type": "code",
   "execution_count": 3,
   "metadata": {},
   "outputs": [
    {
     "name": "stdout",
     "output_type": "stream",
     "text": [
      "[-1.6298e-01  3.0141e-01  5.7978e-01  6.6548e-02  4.5835e-01 -1.5329e-01\n",
      "  4.3258e-01 -8.9215e-01  5.7747e-01  3.6375e-01  5.6524e-01 -5.6281e-01\n",
      "  3.5659e-01 -3.6096e-01 -9.9662e-02  5.2753e-01  3.8839e-01  9.6185e-01\n",
      "  1.8841e-01  3.0741e-01 -8.7842e-01 -3.2442e-01  1.1202e+00  7.5126e-02\n",
      "  4.2661e-01 -6.0651e-01 -1.3893e-01  4.7862e-02 -4.5158e-01  9.3723e-02\n",
      "  1.7463e-01  1.0962e+00 -1.0044e+00  6.3889e-02  3.8002e-01  2.1109e-01\n",
      " -6.6247e-01 -4.0736e-01  8.9442e-01 -6.0974e-01 -1.8577e-01 -1.9913e-01\n",
      " -6.9226e-01 -3.1806e-01 -7.8565e-01  2.3831e-01  1.2992e-01  8.7721e-02\n",
      "  4.3205e-01 -2.2662e-01  3.1549e-01 -3.1748e-01 -2.4632e-03  1.6615e-01\n",
      "  4.2358e-01 -1.8087e+00 -3.6699e-01  2.3949e-01  2.5458e+00  3.6111e-01\n",
      "  3.9486e-02  4.8607e-01 -3.6974e-01  5.7282e-02 -4.9317e-01  2.2765e-01\n",
      "  7.9966e-01  2.1428e-01  6.9811e-01  1.1262e+00 -1.3526e-01  7.1972e-01\n",
      " -9.9605e-04 -2.6842e-01 -8.3038e-01  2.1780e-01  3.4355e-01  3.7731e-01\n",
      " -4.0251e-01  3.3124e-01  1.2576e+00 -2.7196e-01 -8.6093e-01  9.0053e-02\n",
      " -2.4876e+00  4.5200e-01  6.6945e-01 -5.4648e-01 -1.0324e-01 -1.6979e-01\n",
      "  5.9437e-01  1.1280e+00  7.5755e-01 -5.9160e-02  1.5152e-01 -2.8388e-01\n",
      "  4.9452e-01 -9.1703e-01  9.1289e-01 -3.0927e-01]\n"
     ]
    }
   ],
   "source": [
    "corpus = api.load('glove-wiki-gigaword-100')\n",
    "\n",
    "vector = corpus['computer']\n",
    "print(vector)"
   ]
  },
  {
   "cell_type": "code",
   "execution_count": 4,
   "metadata": {},
   "outputs": [],
   "source": [
    "data = ''\n",
    "\n",
    "with open('../resources/sets/english-adjectives.txt', 'r') as file:\n",
    "    data = file.read().replace('\\n', ',')\n",
    "\n",
    "adjectives = data.split(',')\n",
    "\n",
    "adjectives_scored = {}\n",
    "\n",
    "for adjective in adjectives:\n",
    "    if adjective in corpus:\n",
    "        adjectives_scored[adjective] = corpus[adjective]"
   ]
  },
  {
   "cell_type": "markdown",
   "metadata": {},
   "source": [
    "## Extrapolate mood scores to adjactives using ML"
   ]
  },
  {
   "cell_type": "code",
   "execution_count": 42,
   "metadata": {},
   "outputs": [
    {
     "name": "stdout",
     "output_type": "stream",
     "text": [
      "abandoned : 0.42351808467904445\n",
      "able : 0.4405493206909388\n",
      "absolute : 0.4332413140883634\n",
      "adorable : 0.5076165830819508\n",
      "adventurous : 0.5151558501274796\n",
      "academic : 0.4302687315900795\n",
      "acceptable : 0.419529219889252\n",
      "acclaimed : 0.4535211871790032\n",
      "accomplished : 0.5353163085973955\n",
      "accurate : 0.44732140216348526\n",
      "aching : 0.4317435059677551\n",
      "acidic : 0.4328384865312034\n",
      "acrobatic : 0.4423616214136319\n",
      "active : 0.4221623808893722\n",
      "actual : 0.42308530562097285\n",
      "adept : 0.46135904115824233\n",
      "admirable : 0.5086799631563241\n",
      "admired : 0.5098485489963382\n",
      "adolescent : 0.416748111690608\n",
      "adored : 0.5484287806950547\n"
     ]
    }
   ],
   "source": [
    "from sklearn.svm import SVR\n",
    "from sklearn.multioutput import MultiOutputRegressor\n",
    "from sklearn.preprocessing import StandardScaler\n",
    "from sklearn.pipeline import make_pipeline\n",
    "\n",
    "lexicon_trained = {}\n",
    "\n",
    "# Create a pipeline with StandardScaler and SVR, wrapped in MultiOutputRegressor\n",
    "model = MultiOutputRegressor(make_pipeline(StandardScaler(), SVR(kernel='rbf', C=1.0)))\n",
    "\n",
    "x_train, y_train = [], []\n",
    "for key in lexicon.keys():\n",
    "    x_train.append(adjectives_scored[key])\n",
    "    y_train.append([lexicon[key], 0])\n",
    "\n",
    "x_train_np = np.array(x_train)\n",
    "y_train_np = np.array(y_train)\n",
    "\n",
    "    # Train the model\n",
    "model.fit(x_train, y_train)\n",
    "\n",
    "for key in adjectives_scored:\n",
    "    result = model.predict([adjectives_scored[key]])\n",
    "    lexicon_trained[key] = result[0][0]\n",
    "\n",
    "# print(lexicon_trained)\n",
    "for key, value in itertools.islice(lexicon_trained.items(), 20):\n",
    "    print(key, \":\", value)"
   ]
  },
  {
   "cell_type": "markdown",
   "metadata": {},
   "source": [
    "## Basic NLP techniques to extract mood score changes for text"
   ]
  },
  {
   "cell_type": "code",
   "execution_count": 43,
   "metadata": {},
   "outputs": [],
   "source": [
    "from nltk.stem import PorterStemmer, WordNetLemmatizer\n",
    "from nltk.tokenize import word_tokenize\n",
    "import nltk\n",
    "\n",
    "def calculate_mood_series(text):\n",
    "    lemmatizer = WordNetLemmatizer()\n",
    "    # Tokenize text into words\n",
    "    words = word_tokenize(text)\n",
    "    # Apply lemmatization\n",
    "    lemmatized_words = [lemmatizer.lemmatize(word) for word in words]\n",
    "\n",
    "    mood_series = []\n",
    "    for word in lemmatized_words:\n",
    "        if word in lexicon_trained.keys():\n",
    "            mood_series.append(lexicon_trained[word])\n",
    "    return mood_series"
   ]
  },
  {
   "cell_type": "code",
   "execution_count": 44,
   "metadata": {},
   "outputs": [
    {
     "name": "stdout",
     "output_type": "stream",
     "text": [
      "[0.45973176454385156, 0.3325276673498717, 0.42756880944163317]\n"
     ]
    }
   ],
   "source": [
    "example_text = \"It was the best of times, it was the worst of times, it was the age of wisdom, it was the age of foolishness, it was the epoch of belief, it was the epoch of incredulity, it was the season of light, it was the season of darkness, it was the spring of hope, it was the winter of despair.\"\n",
    "\n",
    "print(calculate_mood_series(example_text))"
   ]
  },
  {
   "cell_type": "markdown",
   "metadata": {},
   "source": [
    "*may be try classification instead of regression? classify in positive and negative moods.*\n",
    "\n",
    "\n",
    "Використання технік обробки тексту для виявлення сарказму в тексті\n",
    "\n",
    "Створення інтерактивної платформи міні ігор із централізованим зберіганням даних\n",
    "\n",
    "Розробка RAG Системи\n",
    "\n",
    "Застосування AR (Augmented Reality) для створення навігації в межах приміщення з використанням Unity \n",
    "\n"
   ]
  },
  {
   "cell_type": "markdown",
   "metadata": {},
   "source": [
    "## Classification   "
   ]
  },
  {
   "cell_type": "code",
   "execution_count": 5,
   "metadata": {},
   "outputs": [],
   "source": [
    "lexicon = {\n",
    "    \"anxious\": -1, \"furious\": -1, \"peaceful\": 1, \"hate\": -1, \"joyful\": 1, \n",
    "    \"unacceptable\": -1, \"thrilled\": 1, \"infuriating\": -1, \"irate\": -1, \n",
    "    \"terrible\": -1, \"nervous\": -1, \"melancholy\": -1, \"useless\": -1, \"depressed\": -1, \n",
    "    \"gloomy\": -1, \"serene\": 1, \"elated\": 1, \"ecstatic\": 1, \"overjoyed\": 1,\n",
    "    \"gleeful\": 1, \"cheerful\": 1, \"optimistic\": 1, \"buoyant\": 1, \"enthusiastic\": 1,\n",
    "    \"upbeat\": 1, \"festive\": 1, \"playful\": 1, \"vivacious\": 1, \"amused\": 1,\n",
    "    \"blissful\": 1, \"grateful\": 1, \"tranquil\": 1, \"relaxed\": 1, \"comfortable\": 1,\n",
    "    \"cozy\": 1, \"warm\": 1, \"inviting\": 1, \"satisfied\": 1, \"pleasant\": 1, \n",
    "    \"pleased\" : 1, \"happy\": 1\n",
    "    }"
   ]
  },
  {
   "cell_type": "code",
   "execution_count": 6,
   "metadata": {},
   "outputs": [],
   "source": [
    "data = ''\n",
    "\n",
    "with open('../resources/sets/english-adjectives.txt', 'r') as file:\n",
    "    data = file.read().replace('\\n', ',')\n",
    "\n",
    "adjectives = data.split(',')\n",
    "\n",
    "adjectives_scored = {}\n",
    "\n",
    "for adjective in adjectives:\n",
    "    if adjective in corpus:\n",
    "        adjectives_scored[adjective] = corpus[adjective]"
   ]
  },
  {
   "cell_type": "code",
   "execution_count": 7,
   "metadata": {},
   "outputs": [
    {
     "name": "stdout",
     "output_type": "stream",
     "text": [
      "abandoned : 1\n",
      "able : 1\n",
      "absolute : 1\n",
      "adorable : 1\n",
      "adventurous : 1\n",
      "academic : 1\n",
      "acceptable : 1\n",
      "acclaimed : 1\n",
      "accomplished : 1\n",
      "accurate : 1\n",
      "aching : 1\n",
      "acidic : 1\n",
      "acrobatic : 1\n",
      "active : 1\n",
      "actual : 1\n",
      "adept : 1\n",
      "admirable : 1\n",
      "admired : 1\n",
      "adolescent : -1\n",
      "adored : 1\n"
     ]
    }
   ],
   "source": [
    "import numpy as np\n",
    "import matplotlib.pyplot as plt\n",
    "from sklearn import datasets\n",
    "from sklearn.model_selection import train_test_split\n",
    "from sklearn.svm import SVC\n",
    "from sklearn.metrics import accuracy_score\n",
    "\n",
    "lexicon_trained = {}\n",
    "\n",
    "# Create a pipeline with StandardScaler and SVR, wrapped in MultiOutputRegressor\n",
    "model = SVC(kernel='rbf', C=1.0, gamma='scale')\n",
    "\n",
    "x_train, y_train = [], []\n",
    "for key in lexicon.keys():\n",
    "    x_train.append(adjectives_scored[key])\n",
    "    y_train.append(lexicon[key])\n",
    "\n",
    "x_train_prepared = x_train\n",
    "y_train_prepared = np.array(list(lexicon.values()))\n",
    "\n",
    "    # Train the model\n",
    "model.fit(x_train_prepared, y_train_prepared)\n",
    "\n",
    "for key in adjectives_scored:\n",
    "    result = model.predict([adjectives_scored[key]])\n",
    "    lexicon_trained[key] = result[0]\n",
    "\n",
    "# print(lexicon_trained)\n",
    "for key, value in itertools.islice(lexicon_trained.items(), 20):\n",
    "    print(key, \":\", value)"
   ]
  },
  {
   "cell_type": "markdown",
   "metadata": {},
   "source": [
    "## Analyse timeseries"
   ]
  },
  {
   "cell_type": "markdown",
   "metadata": {},
   "source": [
    "## Let's try emojis/punctuation"
   ]
  },
  {
   "cell_type": "code",
   "execution_count": 8,
   "metadata": {},
   "outputs": [
    {
     "name": "stdout",
     "output_type": "stream",
     "text": [
      "['😄', '🌍', '☕', '🚀', '🌈', '🎉', '🌞', '👋', '✨']\n",
      "[':grinning_face_with_smiling_eyes:', ':globe_showing_Europe-Africa:', ':hot_beverage:', ':rocket:', ':rainbow:', ':party_popper:', ':sun_with_face:', ':waving_hand:', ':sparkles:']\n"
     ]
    }
   ],
   "source": [
    "import emoji\n",
    "\n",
    "# def extract_emojis(s):\n",
    "#   return ''.join(c for c in s if c in emoji.distinct_emoji_list('en'))\n",
    "\n",
    "example_text = \"Hey there! 👋 How's your day going? 🌞 Whether you're sipping coffee ☕, exploring new places 🌍, or just chilling at home �, I hope it's amazing! 🎉 Don't forget to smile 😄 and spread positivity! ✨ Life's a journey 🚀, so enjoy every moment! 🌈✨\"\n",
    "emoji_list = emoji.distinct_emoji_list(example_text)\n",
    "print(emoji_list)\n",
    "\n",
    "unicode_values = [emoji.demojize(e).encode('unicode_escape').decode('utf-8') for e in emoji_list]\n",
    "print(unicode_values)"
   ]
  },
  {
   "cell_type": "markdown",
   "metadata": {},
   "source": [
    "Use two markers at the same time: text mood classifications (positive negative -> function) and emoji+punctuation "
   ]
  },
  {
   "cell_type": "markdown",
   "metadata": {},
   "source": [
    "**Before going further, we have to learn, which emojis happen the most often to be in sarcastic texts.**\n",
    "\n",
    "dataset sarcasm_train2.csv, \n",
    "\n",
    "- tweet: The text of the tweet\n",
    "- class: The respective class to which the tweet belongs. There are 4 classes: Irony, Sarcasm, Regular, Figurative (both irony and sarcasm)"
   ]
  },
  {
   "cell_type": "code",
   "execution_count": 9,
   "metadata": {},
   "outputs": [
    {
     "name": "stdout",
     "output_type": "stream",
     "text": [
      "['Be aware  dirty step to get money  #staylight #staywhite  #sarcastic #moralneeded @… https://t.co/Oj6BdyX3WG', \"#sarcasm for #people who don't understand #diy #artattack http://t.co/rtyYmuDVUS\", '@IminworkJeremy @medsingle #DailyMail readers being sensible as always #shocker #sarcastic #dailyfail #inHuntspocket #theyhatethenhs', '@wilw Why do I get the feeling you like games? #sarcasm', '-@TeacherArthurG @rweingarten You probably just missed the text. #sarcastic', \"Tune in to Nigezie and be treated to Rachel Platten's Fight Song, move to MTV and get Reminisce &amp; Olamide's Local Rapper #Irony #TimesChange\", 'What iz thiz?!?!? A friggin DC love fest??!?!? @andysignore @MurrellDan #Sarcasm #MovieFights', 'man, i wish i could sexually harass an intoxicated minor and NOT go to jail #sarcasm', \"@raaachf for the car ride when I get to listen to you and jess the whole time? Yeah woo can't wait either. #sarcasm\", \"Aamir calls #BajrangiBhaijaan as Salman's best movie yet! You decide whether it's #sarcasm or a compliment!\", \"@megturney Sorry you can't understand my #dark sense of humor... #sarcasm\", '#work #yay #sarcasm #fuck #goodnight 😔 @ G Town https://t.co/wA4p63LImD', \"@KingDonutI Come on..it's against the Mets....that's like a loss to a double A team at the best #Sarcasm\", '@stl7thward @LauraKHettiger I thought hot spot policing was a plan?? (Which btw is really working out) #sarcasm', '@ciarakellydoc @LunchtimeNT dont be daft Dr Ciara. Measles doesnt kill, its an old fashioned disease. Like scurvy! And trench foot! #sarcasm', 'I dont think any TV show could be more #Epic than #MasterShowman! This show is the bees knees!! #sarcastic', 'Here we go another day in paradise #sarcasm', '@benshapiro @CBSNews sure does... #Sarcasm', \"My jobs great because I love what I do (operate rides for kids) and sometimes if the weather's right, I get a shower too!! #rain #sarcasm\", 'quotestags_app #funnyquotes #insult #sarcasticquotes #sarcasm  #quote #quotestags https://t.co/bTB5knXbIY']\n",
      "{'😔': 44, '😬': 32, '🙊': 23, '😐': 132, '🌂': 9, '☔': 53, '😂': 2196, '😒': 403, '😉': 136, '😁': 172, '😈': 35, '😃': 67, '😆': 65, '👌': 139, '👏': 144, '😕': 92, '😳': 98, '🙏': 32, '👀': 52, '😤': 18, '🔥': 49, '🙅': 6, '⛳': 4, '🙌': 70, '🏼': 192, '😍': 84, '😡': 72, '🏂': 2, '😑': 179, '😭': 134, '🙈': 64, '😢': 28, '😵': 10, '👍': 156, '🏻': 157, '😊': 608, '💖': 13, '⭐': 11, '😄': 109, '😇': 14, '😴': 72, '😞': 14, '☺': 149, '💁': 43, '😅': 156, '😱': 54, '✈': 14, '😨': 17, '👊': 40, '💪': 13, '😓': 25, '😖': 19, '✋': 20, '🏾': 30, '😏': 121, '😜': 131, '👈': 11, '😎': 50, '👐': 6, '🌊': 3, '💩': 31, '💗': 2, '☕': 21, '📷': 4, '🌺': 8, '🍷': 16, '👠': 7, '❤': 81, '✊': 14, '🏽': 69, '👻': 15, '⛄': 5, '💋': 15, '😶': 12, '🍻': 11, '😘': 41, '💕': 7, '😣': 15, '👑': 5, '✌': 44, '🐺': 3, '☝': 23, '🍗': 2, '🍖': 1, '😋': 15, '😝': 67, '😩': 66, '💛': 8, '©': 3, '😲': 13, '🙍': 3, '🍭': 5, '♥': 11, '😰': 4, '😠': 38, '😛': 24, '🐸': 10, '💜': 39, '👎': 42, '💔': 47, '😫': 19, '👆': 4, '☁': 3, '😯': 17, '😪': 10, '🚌': 2, '🍸': 5, '🌈': 5, '💙': 14, '🌾': 2, '🗻': 3, '‼': 3, '😥': 11, '😀': 112, '🎉': 44, '🍉': 6, '🏀': 5, '😹': 13, '👿': 5, '🏿': 17, '🍃': 4, '🌱': 2, '😧': 13, '💨': 17, '🙉': 5, '💦': 19, '💉': 5, '✔': 18, '🍪': 8, '🍆': 3, '🍔': 6, '🍟': 3, '🍬': 3, '🎤': 5, '💯': 15, '🌴': 2, '💀': 25, '👸': 8, '🙋': 8, '☀': 27, '🎥': 4, '💰': 6, '👩': 5, '🍰': 2, '👋': 17, '🌻': 2, '👓': 2, '😮': 15, '📢': 2, '😌': 12, '🏈': 14, '🌞': 11, '✨': 8, '💃': 18, '🔎': 2, '💻': 4, '📱': 7, '✅': 2, '😷': 25, '💓': 5, '⚡': 24, '💸': 2, '🎧': 2, '🎵': 4, '🎶': 38, '💚': 12, '🚬': 5, '🐍': 2, '🌰': 2, '🍕': 5, '🍹': 2, '🚫': 4, '🍁': 4, '👃': 2, '🎲': 3, '🚁': 2, '🔫': 43, '👯': 8, '🎁': 8, '🎓': 3, '✂': 5, '🏡': 4, '⛅': 4, '🌆': 2, '🎀': 3, '®': 3, '🏃': 8, '⚽': 8, '™': 6, '😟': 6, '🌝': 1, '🌜': 2, '🎬': 2, '👼': 5, '🛀': 6, '⏰': 5, '👂': 2, '💭': 5, '☹': 2, '💝': 1, '🌹': 6, '🍲': 3, '🌍': 1, '😗': 2, '💥': 10, '🚘': 3, '🌑': 2, '🌎': 4, '💬': 1, '👉': 7, '💡': 3, '🐒': 2, '🐷': 4, '⚾': 8, '🌚': 3, '🐴': 1, '🐾': 2, '🐉': 3, '🐲': 2, '✏': 3, '🚊': 1, '😦': 2, '🏥': 2, '💊': 5, '📋': 3, '🤗': 1, '🎃': 3, '⚫': 2, '⚪': 3, '➡': 5, '🎂': 42, '🙃': 4, '🏠': 1, '❄': 9, '💍': 1, '🙆': 2, '♍': 1, '🤑': 3, '👽': 5, '🔮': 2, '😽': 1, '🐝': 3, '🍫': 3, '🍩': 7, '🎄': 2, '💣': 1, '🎻': 1, '👜': 1, '🐥': 1, '🍴': 2, '🍝': 1, '💎': 4, '🍌': 2, '🚀': 1, '🐻': 3, '📔': 2, '😼': 6, '👅': 4, '🍒': 2, '🎊': 3, '🏉': 1, '🌐': 1, '🐤': 3, '🐦': 1, '👭': 1, '🍦': 2, '🍮': 2, '🚨': 2, '🐱': 1, '🚓': 1, '🚔': 1, '💧': 1, '🐜': 1, '👮': 4, '📺': 1, '🅰': 1, '🍅': 1, '🚂': 2, '👕': 1, '🌿': 3, '👶': 1, '😙': 4, '⁉': 1, '🍑': 2, '🐘': 2, '🐢': 3, '🔀': 1, '💞': 4, '➰': 1, '👤': 1, '🔝': 2, '🕝': 1, '🐬': 1, '🐠': 1, '⤴': 1, '💅': 2, '🐕': 1, '🐩': 1, '🍂': 1, '👣': 5, '🙇': 1, '🔬': 1, '😚': 1, '📐': 2, '💤': 3, '🔊': 1, '📯': 1, '💘': 3, '▶': 1, '🗽': 2, '🚴': 2, '🚑': 1, '👁': 1, '🍀': 3, '❗': 1, '🐳': 3, '🐇': 1, '🚆': 1, '⬆': 1, '🏊': 1, '🎼': 2, '🐔': 1, '🐏': 1, '🌲': 1, '🔋': 1, '🐽': 1, '🐯': 1, '🐅': 1, '🎈': 2, '👷': 1, '🚙': 1, '🚦': 1, '🌃': 1, '👧': 2, '🐶': 3, '🚗': 3, '🌄': 1, '♻': 5, '😾': 1, '📣': 1, '🆘': 2, '📚': 4, '🔌': 1, '🏇': 3, '🎣': 1, '🐋': 1, '🍣': 1, '🍞': 1, '🍧': 1, '📰': 1, '⤵': 1, '🏆': 1, '🚺': 1, '💷': 2, '💟': 1, '💌': 1, '🔵': 1, '✖': 1, '🚩': 1, '💇': 1, '📝': 1, '🚧': 2, '⚠': 2, '📕': 1, '📗': 1, '📘': 1, '📙': 1, '📓': 1, '📒': 1, '📆': 1, '📅': 1, '📖': 1, '📇': 1, '🔗': 1, '📎': 1, '📌': 1, '📊': 1, '📉': 1, '📑': 2, '📬': 1, '📄': 1, '📃': 1, '✒': 1, '📂': 1, '🚿': 3, '😸': 1, '⚓': 1}\n"
     ]
    },
    {
     "data": {
      "image/png": "[encoded data removed]",
      "text/plain": [
       "<Figure size 1200x600 with 1 Axes>"
      ]
     },
     "metadata": {},
     "output_type": "display_data"
    },
    {
     "name": "stdout",
     "output_type": "stream",
     "text": [
      "{'😂': 0.24243762419960257, '😊': 0.06712298520644734, '😒': 0.04449105762861559, '🏼': 0.021196732170457054, '😑': 0.019761536763082357, '😁': 0.018988739236034443, '🏻': 0.01733274453521749, '👍': 0.017222344888496357, '😅': 0.017222344888496357, '☺': 0.016449547361448442, '👏': 0.015897549127842792, '👌': 0.015345550894237139, '😉': 0.015014351954073748, '😭': 0.014793552660631487, '😐': 0.014572753367189224, '😜': 0.014462353720468094, '😏': 0.01335835725325679, '😀': 0.012364760432766615, '😄': 0.012033561492603224, '😳': 0.010819165378670788, '😕': 0.010156767498344006, '😍': 0.00927357032457496, '❤': 0.00894237138441157, '😡': 0.007948774563921396, '😴': 0.007948774563921396, '🙌': 0.0077279752704791345, '🏽': 0.007617575623758004, '😃': 0.007396776330315743, '😝': 0.007396776330315743, '😩': 0.007286376683594612, '😆': 0.007175977036873482, '🙈': 0.007065577390152351, '😱': 0.005961580922941047, '☔': 0.005851181276219916, '👀': 0.005740781629498786, '😎': 0.005519982336056524, '🔥': 0.005409582689335394, '💔': 0.005188783395893133, '😔': 0.004857584455729742, '✌': 0.004857584455729742, '🎉': 0.004857584455729742, '💁': 0.004747184809008611, '🔫': 0.004747184809008611, '👎': 0.00463678516228748, '🎂': 0.00463678516228748, '😘': 0.00452638551556635, '👊': 0.00441598586884522, '💜': 0.004305586222124089, '😠': 0.004195186575402959, '🎶': 0.004195186575402959, '😈': 0.0038639876352395673, '😬': 0.0035327886950761757, '🙏': 0.0035327886950761757, '💩': 0.0034223890483550453, '🏾': 0.003311989401633915, '😢': 0.0030911901081916537, '☀': 0.0029807904614705233, '😓': 0.002759991168028262, '💀': 0.002759991168028262, '😷': 0.002759991168028262, '😛': 0.0026495915213071318, '⚡': 0.0026495915213071318, '🙊': 0.0025391918745860014, '☝': 0.0025391918745860014, '☕': 0.00231839258114374, '✋': 0.00220799293442261, '😖': 0.0020975932877014794, '😫': 0.0020975932877014794, '💦': 0.0020975932877014794, '😤': 0.001987193640980349, '✔': 0.001987193640980349, '💃': 0.001987193640980349, '😨': 0.0018767939942592184, '😯': 0.0018767939942592184, '🏿': 0.0018767939942592184, '💨': 0.0018767939942592184, '👋': 0.0018767939942592184, '🍷': 0.0017663943475380878, '👻': 0.0016559947008169575, '💋': 0.0016559947008169575, '😣': 0.0016559947008169575, '😋': 0.0016559947008169575, '💯': 0.0016559947008169575, '😮': 0.0016559947008169575, '😇': 0.0015455950540958269, '😞': 0.0015455950540958269, '✈': 0.0015455950540958269, '✊': 0.0015455950540958269, '💙': 0.0015455950540958269, '🏈': 0.0015455950540958269, '💖': 0.0014351954073746965, '💪': 0.0014351954073746965, '😲': 0.0014351954073746965, '😹': 0.0014351954073746965, '😧': 0.0014351954073746965, '😶': 0.0013247957606535659, '😌': 0.0013247957606535659, '💚': 0.0013247957606535659, '⭐': 0.0012143961139324355, '👈': 0.0012143961139324355}\n"
     ]
    }
   ],
   "source": [
    "import warnings\n",
    "warnings.filterwarnings(\"ignore\")\n",
    "\n",
    "values_second_column = {\"sarcasm\", \"irony\", \"figurative\"}\n",
    "filtered_values = []\n",
    "\n",
    "with open(\"../resources/sarcasm_train2.csv\", newline=\"\", encoding=\"utf8\") as csvfile:\n",
    "    reader = csv.reader(csvfile)\n",
    "    for row in reader:\n",
    "        if row and row[1] in values_second_column: \n",
    "            filtered_values.append(row[0])\n",
    "\n",
    "print(filtered_values[:20])\n",
    "\n",
    "emoji_count = {}\n",
    "total_emoji = 0\n",
    "\n",
    "for text in filtered_values:\n",
    "    for char in text:\n",
    "        if char in emoji.EMOJI_DATA:\n",
    "            total_emoji += 1\n",
    "            if char not in emoji_count.keys():\n",
    "                emoji_count[char] = 1\n",
    "            else:\n",
    "                emoji_count[char] += 1\n",
    "\n",
    "print(emoji_count)\n",
    "\n",
    "# sort by value and take 20 most important emojis\n",
    "top_emoji = dict(sorted(emoji_count.items(), key=lambda item: item[1], reverse=True)[:100])\n",
    "\n",
    "labels = list(top_emoji.keys())\n",
    "values = list(top_emoji.values())\n",
    "\n",
    "plt.figure(figsize=(12, 6))\n",
    "plt.bar(labels, values, color='lightgreen')\n",
    "plt.ylabel(\"Count\")\n",
    "plt.xlabel(\"Text\")\n",
    "plt.title(\"Top 20 Elements with Highest Values\")\n",
    "plt.show()\n",
    "\n",
    "top_emoji_normalized = {}\n",
    "for elem in top_emoji:\n",
    "    top_emoji_normalized[elem] = top_emoji[elem] / total_emoji\n",
    "\n",
    "print(top_emoji_normalized)"
   ]
  },
  {
   "cell_type": "markdown",
   "metadata": {},
   "source": [
    "Since emojis follow logarithmic power low, we will scale them: \n",
    "$$ e_{scaled} = \\lfloor \\ln e_{score} \\rfloor$$"
   ]
  },
  {
   "cell_type": "code",
   "execution_count": 11,
   "metadata": {},
   "outputs": [
    {
     "name": "stdout",
     "output_type": "stream",
     "text": [
      "{'😂': 1.0, '😊': 0.8571428571428571, '😒': 0.8571428571428571, '🏼': 0.7142857142857143, '😑': 0.7142857142857143, '😁': 0.7142857142857143, '🏻': 0.7142857142857143, '👍': 0.7142857142857143, '😅': 0.7142857142857143, '☺': 0.7142857142857143, '👏': 0.7142857142857143, '👌': 0.5714285714285714, '😉': 0.5714285714285714, '😭': 0.5714285714285714, '😐': 0.5714285714285714, '😜': 0.5714285714285714, '😏': 0.5714285714285714, '😀': 0.5714285714285714, '😄': 0.5714285714285714, '😳': 0.5714285714285714, '😕': 0.5714285714285714, '😍': 0.5714285714285714, '❤': 0.5714285714285714, '😡': 0.5714285714285714, '😴': 0.5714285714285714, '🙌': 0.5714285714285714, '🏽': 0.5714285714285714, '😃': 0.5714285714285714, '😝': 0.5714285714285714, '😩': 0.5714285714285714, '😆': 0.5714285714285714, '🙈': 0.5714285714285714, '😱': 0.5714285714285714, '☔': 0.42857142857142855, '👀': 0.42857142857142855, '😎': 0.42857142857142855, '🔥': 0.42857142857142855, '💔': 0.42857142857142855, '😔': 0.42857142857142855, '✌': 0.42857142857142855, '🎉': 0.42857142857142855, '💁': 0.42857142857142855, '🔫': 0.42857142857142855, '👎': 0.42857142857142855, '🎂': 0.42857142857142855, '😘': 0.42857142857142855, '👊': 0.42857142857142855, '💜': 0.42857142857142855, '😠': 0.42857142857142855, '🎶': 0.42857142857142855, '😈': 0.42857142857142855, '😬': 0.42857142857142855, '🙏': 0.42857142857142855, '💩': 0.42857142857142855, '🏾': 0.42857142857142855, '😢': 0.42857142857142855, '☀': 0.42857142857142855, '😓': 0.42857142857142855, '💀': 0.42857142857142855, '😷': 0.42857142857142855, '😛': 0.42857142857142855, '⚡': 0.42857142857142855, '🙊': 0.42857142857142855, '☝': 0.42857142857142855, '☕': 0.42857142857142855, '✋': 0.42857142857142855, '😖': 0.2857142857142857, '😫': 0.2857142857142857, '💦': 0.2857142857142857, '😤': 0.2857142857142857, '✔': 0.2857142857142857, '💃': 0.2857142857142857, '😨': 0.2857142857142857, '😯': 0.2857142857142857, '🏿': 0.2857142857142857, '💨': 0.2857142857142857, '👋': 0.2857142857142857, '🍷': 0.2857142857142857, '👻': 0.2857142857142857, '💋': 0.2857142857142857, '😣': 0.2857142857142857, '😋': 0.2857142857142857, '💯': 0.2857142857142857, '😮': 0.2857142857142857, '😇': 0.2857142857142857, '😞': 0.2857142857142857, '✈': 0.2857142857142857, '✊': 0.2857142857142857, '💙': 0.2857142857142857, '🏈': 0.2857142857142857, '💖': 0.2857142857142857, '💪': 0.2857142857142857, '😲': 0.2857142857142857, '😹': 0.2857142857142857, '😧': 0.2857142857142857, '😶': 0.2857142857142857, '😌': 0.2857142857142857, '💚': 0.2857142857142857, '⭐': 0.2857142857142857, '👈': 0.2857142857142857}\n"
     ]
    }
   ],
   "source": [
    "# emojis follow power law:\n",
    "import math\n",
    "\n",
    "a = 2.7\n",
    "top_emoji_scaled = {}\n",
    "for item in top_emoji:\n",
    "    top_emoji_scaled[item] = math.floor( math.log( top_emoji[item], a))\n",
    "\n",
    "sum_emoji_score = max(top_emoji_scaled.values())\n",
    "for item in top_emoji_scaled.keys():\n",
    "    top_emoji_scaled[item] = top_emoji_scaled[item] / sum_emoji_score\n",
    "\n",
    "print(top_emoji_scaled)"
   ]
  },
  {
   "cell_type": "markdown",
   "metadata": {},
   "source": [
    "**Track mood score:**"
   ]
  },
  {
   "cell_type": "code",
   "execution_count": 12,
   "metadata": {},
   "outputs": [
    {
     "name": "stdout",
     "output_type": "stream",
     "text": [
      "(80, {3: 1, 11: -1, 53: 1}, {6: 0.42857142857142855, 14: 0.2857142857142857, 38: 0.42857142857142855})\n",
      "(21, {16: -1, 18: 1}, {19: 0.8571428571428571})\n"
     ]
    }
   ],
   "source": [
    "from nltk.stem import PorterStemmer, WordNetLemmatizer\n",
    "from nltk.tokenize import word_tokenize\n",
    "import nltk\n",
    "\n",
    "def calculate_series(text):\n",
    "    mood_points = {}\n",
    "    emoji_points = {}\n",
    "\n",
    "    lemmatizer = WordNetLemmatizer()\n",
    "    # Tokenize text into words\n",
    "    words = word_tokenize(text)\n",
    "\n",
    "    # Apply lemmatization\n",
    "    lemmatized_words = [lemmatizer.lemmatize(word.lower()) for word in words]\n",
    "\n",
    "    # mood_series = []\n",
    "    for position, word in enumerate(lemmatized_words):\n",
    "        if word in lexicon_trained.keys():\n",
    "            mood_points[position] = lexicon_trained[word]\n",
    "            # mood_series.append(lexicon_trained[word])\n",
    "        if word in top_emoji_scaled.keys():\n",
    "            emoji_points[position] = top_emoji_scaled[word]\n",
    "    return len(lemmatized_words), mood_points, emoji_points\n",
    "\n",
    "# example_text = \"It was the best of times, it was the worst of times, it was the age of wisdom, it was the age of foolishness, it was the epoch of belief, it was the epoch of incredulity, it was the season of light, it was the season of darkness, it was the spring of hope, it was the winter of despair.\"\n",
    "# print(calculate_mood_series(example_text))\n",
    "\n",
    "emoji_text = \"It was the best of times 🎉, it was the worst of times 😞, it was the age of wisdom 🧠, it was the age of foolishness 🤪, it was the epoch of belief 🙏, it was the epoch of incredulity 🤨, it was the season of light ☀️, it was the season of darkness 🌑, it was the spring of hope 🌱, it was the winter of despair ❄️.\"\n",
    "print(calculate_series(emoji_text))\n",
    "\n",
    "\n",
    "# example of sarcastic texts:\n",
    "sarcastic_texts = [\"School for 12 years, college for 4 years... then your work untill you die lonely. Great 😒.\"]\n",
    "print(calculate_series(sarcastic_texts[0]))\n",
    "\n",
    "# returns nothing: have to extend dataset of words!"
   ]
  },
  {
   "cell_type": "markdown",
   "metadata": {},
   "source": [
    "mood(x), emoj(x)\n",
    "\n",
    "$$f_{e}(x) = \\max\\limits_{x^{*}\\in U_{x}}|emoj(x^{*}) - emoj(x)|$$\n",
    "\n",
    "\\begin{equation}\n",
    "  f_m(x)=\\begin{cases}\n",
    "    1, & \\text{if $\\max\\limits_{x^{*}\\in U_{x}}|mood(x^{*}) - mood(x)| = 2$}.\\\\\n",
    "    0, & \\text{otherwise}.\n",
    "  \\end{cases}\n",
    "\\end{equation}\n",
    "\n",
    "$FLRS(f_{m}, f_{e}) -> f(x)$"
   ]
  },
  {
   "cell_type": "code",
   "execution_count": 14,
   "metadata": {},
   "outputs": [
    {
     "name": "stdout",
     "output_type": "stream",
     "text": [
      "(21, {16: -1, 18: 1}, {19: 0.8571428571428571})\n",
      "[0, 0, 0, 0, 0, 0, 0, 0, 0, 0, 0, 0, 0, 0, 0, 0, 0, 0, 1, 0, 0]\n",
      "[0, 0, 0, 0, 0, 0, 0, 0, 0, 0, 0.8571428571428571, 0.8571428571428571, 0.8571428571428571, 0.8571428571428571, 0.8571428571428571, 0.8571428571428571, 0.8571428571428571, 0.8571428571428571, 0.8571428571428571, 0.8571428571428571, 0.8571428571428571]\n",
      "[0.         0.         0.         0.         0.         0.\n",
      " 0.         0.         0.         0.         0.         0.\n",
      " 0.         0.         0.         0.         0.         0.\n",
      " 0.85714286 0.         0.        ]\n",
      "Tenative sarcasm detection at:  [18]\n"
     ]
    }
   ],
   "source": [
    "sarcastic_texts = [\"School for 12 years, college for 4 years... then your work untill you die lonely. Great 😒.\"]\n",
    "print(calculate_series(sarcastic_texts[0]))\n",
    "n, moods, emojis = calculate_series(sarcastic_texts[0])\n",
    "\n",
    "for i in range(n):\n",
    "    if i not in moods.keys():\n",
    "        moods[i] = 0\n",
    "    if i not in emojis.keys():\n",
    "        emojis[i] = 0\n",
    "\n",
    "window = 10 # magic number \n",
    "f_moods, f_emojis = [], []\n",
    "for i in range(n):\n",
    "    cutoff_point_lower = max(i - window, 0)\n",
    "    cutoff_point_upper = min(i + window, n - 1)\n",
    "    list_of_mood_variations = [0]\n",
    "    for j in range(cutoff_point_lower, i, 1):\n",
    "        list_of_mood_variations.append(abs(moods[j] - moods[i]))\n",
    "    if max(list_of_mood_variations) == 2:\n",
    "        f_moods.append(1)\n",
    "    else:\n",
    "        f_moods.append(0)\n",
    "    list_of_emoji_scores = [0]\n",
    "    for j in range(cutoff_point_lower, cutoff_point_upper, 1):\n",
    "        list_of_emoji_scores.append(emojis[j])\n",
    "    f_emojis.append(max(list_of_emoji_scores))\n",
    "\n",
    "print(f_moods)\n",
    "print(f_emojis)\n",
    "\n",
    "multiplied = (np.array(f_moods) * np.array(f_emojis)) \n",
    "if max(f_emojis) != 0:\n",
    "    multiplied = multiplied \n",
    "print(multiplied)\n",
    "\n",
    "if any(x > 0 for x in multiplied):\n",
    "    print(\"Tenative sarcasm detection at: \", np.where(multiplied > 0)[0])\n",
    "else:\n",
    "    print(\"No detection\")"
   ]
  },
  {
   "cell_type": "markdown",
   "metadata": {},
   "source": [
    "TODO:\n",
    "- make bigger word base, not just adjectives\n",
    "- f_m, f_e functions define and code in\n",
    "- define resulting function (may be try FL)\n",
    "- cross validate model on some interesting datasets"
   ]
  }
 ],
 "metadata": {
  "kernelspec": {
   "display_name": "Python 3",
   "language": "python",
   "name": "python3"
  },
  "language_info": {
   "codemirror_mode": {
    "name": "ipython",
    "version": 3
   },
   "file_extension": ".py",
   "mimetype": "text/x-python",
   "name": "python",
   "nbconvert_exporter": "python",
   "pygments_lexer": "ipython3",
   "version": "3.10.0"
  }
 },
 "nbformat": 4,
 "nbformat_minor": 2
}
