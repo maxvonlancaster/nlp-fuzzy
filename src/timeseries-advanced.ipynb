{
 "cells": [
  {
   "cell_type": "markdown",
   "id": "b82bc61a",
   "metadata": {},
   "source": [
    "# Next level timeseries analysis"
   ]
  },
  {
   "cell_type": "markdown",
   "id": "03f5c47c",
   "metadata": {},
   "source": [
    "## Ideas\n",
    "\n",
    "- App (fast api + react)!\n",
    "- Use available apis for retrieving crypto data\n",
    "- Multiple crypto comparison, create protfolio for next n days (Use evolutionary algorithms to create portfolio )\n",
    "- Stripe for payment \n",
    "- Markov chains, Black-Scholz (?)\n",
    "- News tracking, news classification for crypto\n",
    "- Use LLM \n",
    "- "
   ]
  }
 ],
 "metadata": {
  "kernelspec": {
   "display_name": "Python 3",
   "language": "python",
   "name": "python3"
  },
  "language_info": {
   "name": "python",
   "version": "3.10.0"
  }
 },
 "nbformat": 4,
 "nbformat_minor": 5
}
