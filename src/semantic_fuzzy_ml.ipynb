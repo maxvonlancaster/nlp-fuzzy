{
 "cells": [
  {
   "cell_type": "markdown",
   "metadata": {},
   "source": [
    "# Let's try approach semantic analysis with fuzzy logic + ml\n",
    "\n",
    "The goal of this study is to apply fuzzy logic and custom word vector embeddings to enhance emotion detection in textual analysis. \n",
    "\n",
    "We apply support vector machine technology to different vector embeddings to create custom vector embedding of words that would represent different types of moods. \n",
    "\n",
    "We then generate fuzzy logic rules to detect emotional state based on these moods. The proposed approach is to use evolutionary algorithms to receive best sets of logic rules that would apply for particular task. \n",
    "\n",
    "By instituting trapezoidal membership functions across a spectrum of emotional states and employing a robust set of fuzzy inference rules, the proposed approach yields a granular and context-sensitive interpretation of textual moods.\n",
    "\n",
    "![nlp-ml](../images/nlp_fuzzy.png)"
   ]
  },
  {
   "cell_type": "code",
   "execution_count": 1,
   "metadata": {},
   "outputs": [],
   "source": [
    "# imports section\n",
    "import numpy as np\n",
    "import math\n",
    "from numpy import dot\n",
    "from numpy.linalg import norm\n",
    "from gensim import corpora, models, similarities\n",
    "import string\n",
    "\n",
    "import gensim.downloader as api\n",
    "from gensim.models import Word2Vec\n",
    "import itertools"
   ]
  },
  {
   "cell_type": "code",
   "execution_count": 2,
   "metadata": {},
   "outputs": [],
   "source": [
    "expected = {}\n",
    "expected['lonely'] = [0.1, 0.5, 1, 0.6, 0.1, 0.0]"
   ]
  },
  {
   "cell_type": "code",
   "execution_count": 3,
   "metadata": {},
   "outputs": [],
   "source": [
    "# Define the lexicon with mood vectors\n",
    "moods = {0: \"Angry\", 1: \"Worried\", 2: \"Sad\", 3: \"Calm\", 4: \"Happy\", 5: \"Excited\"}\n",
    "moods_indeces = {y.lower(): x for x, y in moods.items()}\n",
    "\n",
    "lexicon = {\n",
    "    # \"frustrated\": [0.8, 0.4, 0.3, 0, 0, 0], \n",
    "    \"anxious\": [0.3, 0.9, 0.4, 0, 0, 0.1], # \"disappointed\": [0.5, 0.3, 0.8, 0.1, 0, 0], \n",
    "    \"furious\": [0.9, 0.3, 0.2, 0, 0, 0], \"peaceful\": [0, 0, 0, 1, 0.4, 0.2], \n",
    "    \"hate\": [0.9, 0.3, 0.3, 0, 0, 0], \"joyful\": [0, 0, 0, 0.2, 0.9, 0.7], \n",
    "    \"unacceptable\": [0.9, 0.6, 0.6, 0, 0, 0], \"thrilled\": [0, 0, 0, 0, 0.6, 1], \n",
    "    \"infuriating\": [0.9, 0.8, 0.6, 0, 0, 0], \"irate\": [0.9, 0.2, 0.1, 0, 0, 0], \n",
    "    \"terrible\": [0.9, 0.7, 0.7, 0, 0, 0], \"nervous\": [0.2, 0.8, 0.3, 0.1, 0, 0.2],\n",
    "    \"melancholy\": [0.1, 0.4, 0.9, 0.2, 0, 0], \"depressed\": [0.1, 0.1, 0.9, 0.2, 0, 0], \n",
    "    \"gloomy\": [0.1, 0.1, 0.8, 0.3, 0, 0], \"serene\": [0, 0, 0, 0.9, 0.8, 0.9], \n",
    "    \"elated\": [0, 0, 0, 0.1, 0.8, 0.9], \"ecstatic\": [0, 0, 0, 0, 0.7, 1],\n",
    "    \"overjoyed\": [0.1, 0.1, 0.1, 0.1, 1, 0.9], \"gleeful\": [0.1, 0.1, 0.1, 0.1, 0.9, 0.8],\n",
    "    \"cheerful\": [0.1, 0.1, 0.1, 0.1, 0.8, 0.5], \"optimistic\": [0.1, 0.2, 0.1, 0.7, 0.8, 0.6],\n",
    "    \"buoyant\": [0.1, 0.2, 0.1, 0.8, 0.7, 0.7], \"enthusiastic\": [0.2, 0.3, 0.1, 0.6, 0.8, 0.9],\n",
    "    \"upbeat\": [0.1, 0.2, 0.1, 0.7, 0.8, 0.7], \"festive\": [0.1, 0.1, 0.1, 0.7, 0.8, 0.7],\n",
    "    \"playful\": [0.1, 0.2, 0.1, 0.6, 0.7, 0.8], \"vivacious\": [0.1, 0.2, 0.1, 0.6, 0.8, 0.7],\n",
    "    \"jovial\": [0.1, 0.2, 0.1, 0.7, 0.8, 0.7], \"amused\": [0.1, 0.2, 0.1, 0.6, 0.7, 0.7],\n",
    "    \"blissful\": [0.1, 0.1, 0.1, 0.8, 0.9, 0.7], \"grateful\": [0.1, 0.1, 0.1, 0.8, 0.9, 0.7],\n",
    "    \"tranquil\": [0.1, 0.1, 0.1, 0.9, 0.8, 0.6], \"relaxed\": [0.1, 0.1, 0.1, 0.9, 0.8, 0.6],\n",
    "    \"comfortable\": [0.1, 0.1, 0.1, 0.8, 0.8, 0.6], \"cozy\": [0.1, 0.1, 0.1, 0.8, 0.8, 0.6],\n",
    "    \"warm\": [0.1, 0.1, 0.1, 0.8, 0.8, 0.6], \"inviting\": [0.1, 0.1, 0.1, 0.8, 0.8, 0.6], \n",
    "    \"satisfied\": [0.1, 0.1, 0.2, 0.6, 0.5, 0.3], \"pleasant\": [0.1, 0.1, 0.1, 0.8, 0.8, 0.6], \n",
    "    \"pleased\" : [0.1, 0.1, 0.1, 0.9, 0.8, 0.3], \"mellow\": [0.1, 0.1, 0.1, 0.8, 0.8, 0.6] , \n",
    "    \"happy\": [0.1, 0.1, 0.1, 0.7, 1, 0.6]\n",
    "    }"
   ]
  },
  {
   "cell_type": "code",
   "execution_count": 4,
   "metadata": {},
   "outputs": [
    {
     "name": "stdout",
     "output_type": "stream",
     "text": [
      "[-1.6298e-01  3.0141e-01  5.7978e-01  6.6548e-02  4.5835e-01 -1.5329e-01\n",
      "  4.3258e-01 -8.9215e-01  5.7747e-01  3.6375e-01  5.6524e-01 -5.6281e-01\n",
      "  3.5659e-01 -3.6096e-01 -9.9662e-02  5.2753e-01  3.8839e-01  9.6185e-01\n",
      "  1.8841e-01  3.0741e-01 -8.7842e-01 -3.2442e-01  1.1202e+00  7.5126e-02\n",
      "  4.2661e-01 -6.0651e-01 -1.3893e-01  4.7862e-02 -4.5158e-01  9.3723e-02\n",
      "  1.7463e-01  1.0962e+00 -1.0044e+00  6.3889e-02  3.8002e-01  2.1109e-01\n",
      " -6.6247e-01 -4.0736e-01  8.9442e-01 -6.0974e-01 -1.8577e-01 -1.9913e-01\n",
      " -6.9226e-01 -3.1806e-01 -7.8565e-01  2.3831e-01  1.2992e-01  8.7721e-02\n",
      "  4.3205e-01 -2.2662e-01  3.1549e-01 -3.1748e-01 -2.4632e-03  1.6615e-01\n",
      "  4.2358e-01 -1.8087e+00 -3.6699e-01  2.3949e-01  2.5458e+00  3.6111e-01\n",
      "  3.9486e-02  4.8607e-01 -3.6974e-01  5.7282e-02 -4.9317e-01  2.2765e-01\n",
      "  7.9966e-01  2.1428e-01  6.9811e-01  1.1262e+00 -1.3526e-01  7.1972e-01\n",
      " -9.9605e-04 -2.6842e-01 -8.3038e-01  2.1780e-01  3.4355e-01  3.7731e-01\n",
      " -4.0251e-01  3.3124e-01  1.2576e+00 -2.7196e-01 -8.6093e-01  9.0053e-02\n",
      " -2.4876e+00  4.5200e-01  6.6945e-01 -5.4648e-01 -1.0324e-01 -1.6979e-01\n",
      "  5.9437e-01  1.1280e+00  7.5755e-01 -5.9160e-02  1.5152e-01 -2.8388e-01\n",
      "  4.9452e-01 -9.1703e-01  9.1289e-01 -3.0927e-01]\n"
     ]
    }
   ],
   "source": [
    "corpus = api.load('glove-wiki-gigaword-100')\n",
    "\n",
    "vector = corpus['computer']\n",
    "print(vector)"
   ]
  },
  {
   "cell_type": "code",
   "execution_count": 5,
   "metadata": {},
   "outputs": [
    {
     "name": "stdout",
     "output_type": "stream",
     "text": [
      "-0.16298\n"
     ]
    }
   ],
   "source": [
    "print(corpus['computer'][0])"
   ]
  },
  {
   "cell_type": "code",
   "execution_count": 7,
   "metadata": {},
   "outputs": [
    {
     "name": "stdout",
     "output_type": "stream",
     "text": [
      "['abandoned', 'able', 'absolute', 'adorable', 'adventurous', 'academic', 'acceptable', 'acclaimed', 'accomplished', 'accurate', 'aching', 'acidic', 'acrobatic', 'active', 'actual', 'adept', 'admirable', 'admired', 'adolescent', 'adorable']\n"
     ]
    }
   ],
   "source": [
    "data = ''\n",
    "\n",
    "with open('../resources/sets/english-adjectives.txt', 'r') as file:\n",
    "    data = file.read().replace('\\n', ',')\n",
    "\n",
    "adjectives = data.split(',')\n",
    "print(adjectives[:20])"
   ]
  },
  {
   "cell_type": "code",
   "execution_count": 8,
   "metadata": {},
   "outputs": [
    {
     "name": "stdout",
     "output_type": "stream",
     "text": [
      "abandoned : [ 0.43756    0.22949   -0.24099    0.42471   -0.25692    0.073755\n",
      " -0.096612   0.46294    0.85405    0.30859    0.35545    0.81983\n",
      "  0.20312   -0.1225     0.17376   -0.62581    0.48522    0.23915\n",
      " -0.24558   -0.11948    0.69671    0.57527    0.65548   -0.029388\n",
      " -0.19702   -0.4308    -0.77335   -0.5166    -0.201      0.48815\n",
      "  0.23728    0.31009   -0.25274   -0.042121  -0.19871   -0.17874\n",
      "  0.019558  -0.42301    0.0743    -0.073421  -0.57583   -0.30048\n",
      "  0.64496   -0.071048   0.52107    0.17243   -0.13616    0.97539\n",
      "  0.23503   -0.28925   -0.072434   0.10553    0.24934    0.82306\n",
      "  0.21013   -1.7977    -0.54545   -0.29966    1.0294     0.16126\n",
      "  0.081623   0.53188    0.20484    0.36831    0.7118    -0.23808\n",
      "  0.16678   -0.16994   -0.56703   -0.22874   -0.042396  -0.0065193\n",
      "  0.01364   -0.2084    -0.35861   -0.055815   0.16845    0.46759\n",
      " -0.9905     0.35124   -0.070496   0.20322   -0.20443    0.75299\n",
      " -0.70367    0.19664    0.045248  -0.044681  -0.95952    0.31755\n",
      " -0.11741   -0.39899    0.5355     0.89882   -1.0238    -0.39356\n",
      " -0.53247    0.59359    0.2244    -0.026774 ]\n",
      "able : [-0.26057   0.13497  -0.30116  -0.060855 -0.6226   -0.14868  -0.3421\n",
      "  0.010509  0.30815  -0.16048   0.23701   0.21842   0.31249  -0.47274\n",
      " -0.32105  -0.55265   0.45469   0.75399  -0.51536   0.24941   0.13832\n",
      " -0.24741   0.20935  -0.248    -0.41075  -0.45544  -0.35843  -0.57247\n",
      "  1.0253   -0.21348  -0.34057   0.79428  -0.3984    0.013216  0.78371\n",
      "  0.27445  -0.27586   0.11772   0.33587   0.044887 -0.40725  -0.058387\n",
      " -0.093796 -0.80225  -0.15635   0.16576   0.28127  -0.31268   0.075171\n",
      " -0.87361  -0.15511   0.12278   0.3186    1.0496    0.76569  -2.2818\n",
      " -0.042756 -0.36131   1.5883    0.26367   0.081247  0.72454  -0.66271\n",
      "  0.17178   0.90291   0.23845   0.10645   0.62819  -0.27068  -0.51977\n",
      "  0.16073  -0.63504   0.19489  -0.6877    0.29835  -0.066108 -0.60602\n",
      " -0.32513  -0.12218   0.095966  0.61644   0.18535  -0.73239  -0.012384\n",
      " -1.6379   -0.21334   0.72614   0.18554  -0.39467   0.07759   0.010402\n",
      " -0.028466  0.26891  -0.7474   -0.56966  -0.01743  -0.079698 -0.46821\n",
      "  0.32484  -0.078643]\n"
     ]
    }
   ],
   "source": [
    "adjectives_vectors = {}\n",
    "\n",
    "for adjective in adjectives:\n",
    "    adjectives_vectors[adjective] = corpus[adjective]\n",
    "\n",
    "# print(adjectives_vectors)\n",
    "for key, value in itertools.islice(adjectives_vectors.items(), 2):\n",
    "    print(key, \":\", value)"
   ]
  },
  {
   "cell_type": "markdown",
   "metadata": {},
   "source": [
    "Using ML we can extend defined vectors to the whole space of words of interest.\n",
    "ML - classification and regression;\n",
    "Here we are going to apply some regression:\n",
    "- Polynomial regression\n",
    "- Support vector regression \n",
    "- Decision tree regression\n",
    "- Random forest regression \n",
    "- \n",
    "\n",
    "Also we ca apply:\n",
    "- Dimensionality reduction \n",
    "- Kohonen map\n",
    "- \n"
   ]
  },
  {
   "cell_type": "markdown",
   "metadata": {},
   "source": [
    "Let's try applying polynomial regression to mapping adjactives to our vector space"
   ]
  },
  {
   "cell_type": "code",
   "execution_count": 9,
   "metadata": {},
   "outputs": [
    {
     "name": "stdout",
     "output_type": "stream",
     "text": [
      "abandoned : [[0.32317639 0.25339492 0.24257624 0.47616552 0.52784361 0.42721445]]\n",
      "able : [[0.2992916  0.34903521 0.24096157 0.60392428 0.57864176 0.34701217]]\n",
      "absolute : [[0.35318007 0.27168152 0.27121194 0.47428524 0.49266734 0.41936673]]\n",
      "adorable : [[0.22084917 0.24326469 0.18947029 0.44065253 0.66891085 0.58757899]]\n",
      "adventurous : [[0.22041089 0.25171863 0.17750381 0.51526528 0.62645102 0.62195696]]\n",
      "academic : [[0.29220441 0.24158266 0.225727   0.52612072 0.56543346 0.47077341]]\n",
      "acceptable : [[0.38258279 0.2767824  0.28608295 0.44254501 0.44166223 0.3503901 ]]\n",
      "acclaimed : [[0.2972886  0.25117975 0.22408781 0.52039084 0.59370068 0.5127901 ]]\n",
      "accomplished : [[0.27403816 0.22458991 0.19826061 0.52999849 0.60410334 0.52231761]]\n",
      "accurate : [[0.29455266 0.24777829 0.22181902 0.50997164 0.56196879 0.47435633]]\n"
     ]
    }
   ],
   "source": [
    "import numpy as np\n",
    "from sklearn.preprocessing import PolynomialFeatures\n",
    "from sklearn.linear_model import LinearRegression\n",
    "from sklearn.pipeline import Pipeline\n",
    "from sklearn.model_selection import train_test_split\n",
    "\n",
    "\n",
    "# Define the degree of the polynomial features\n",
    "degree = 3  # You can experiment with different degrees\n",
    "\n",
    "# Create a pipeline that includes PolynomialFeatures and LinearRegression\n",
    "model = Pipeline([\n",
    "    ('poly', PolynomialFeatures(degree=degree)),\n",
    "    ('linear', LinearRegression())\n",
    "])\n",
    "\n",
    "x_train, y_train = [], []\n",
    "for key in lexicon.keys():\n",
    "    x_train.append(adjectives_vectors[key])\n",
    "    y_train.append(lexicon[key])\n",
    "\n",
    "x_train_np = np.array(x_train)\n",
    "y_train_np = np.array(y_train)\n",
    "\n",
    "# Train the model\n",
    "model.fit(x_train, y_train)\n",
    "\n",
    "lexicon_trained = {}\n",
    "for key in adjectives_vectors:\n",
    "    result = model.predict([adjectives_vectors[key]])\n",
    "    lexicon_trained[key] = result\n",
    "\n",
    "for key, value in itertools.islice(lexicon_trained.items(), 10):\n",
    "    print(key, \":\", value)"
   ]
  },
  {
   "cell_type": "markdown",
   "metadata": {},
   "source": [
    "Support vector regression:"
   ]
  },
  {
   "cell_type": "code",
   "execution_count": 10,
   "metadata": {},
   "outputs": [
    {
     "name": "stdout",
     "output_type": "stream",
     "text": [
      "abandoned : [[0.36450785 0.27966769 0.31859443 0.50023933 0.4371489  0.34419666]]\n",
      "able : [[0.3430226  0.32288296 0.28917978 0.54112484 0.47876259 0.35876806]]\n",
      "absolute : [[0.37397818 0.29097715 0.32589258 0.5177005  0.44704643 0.35855004]]\n",
      "adorable : [[0.28049398 0.26668014 0.27283056 0.41543006 0.58737366 0.48421475]]\n",
      "adventurous : [[0.28793654 0.28654378 0.25081813 0.48273499 0.57142011 0.52699778]]\n",
      "academic : [[0.35202655 0.27490655 0.31864453 0.53357321 0.45016868 0.37739466]]\n",
      "acceptable : [[0.42209738 0.31427118 0.32262799 0.50984958 0.43412611 0.32382094]]\n",
      "acclaimed : [[0.34911582 0.26365228 0.30469808 0.53400377 0.48816278 0.40375973]]\n",
      "accomplished : [[0.30862104 0.2553403  0.25841672 0.55217642 0.56411535 0.47189207]]\n",
      "accurate : [[0.35404155 0.27981558 0.30862057 0.53763056 0.46982867 0.38353912]]\n"
     ]
    }
   ],
   "source": [
    "from sklearn.svm import SVR\n",
    "from sklearn.multioutput import MultiOutputRegressor\n",
    "from sklearn.preprocessing import StandardScaler\n",
    "from sklearn.pipeline import make_pipeline\n",
    "\n",
    "# Create a pipeline with StandardScaler and SVR, wrapped in MultiOutputRegressor\n",
    "model = MultiOutputRegressor(make_pipeline(StandardScaler(), SVR(kernel='rbf', C=1.0)))\n",
    "\n",
    "x_train, y_train = [], []\n",
    "for key in lexicon.keys():\n",
    "    x_train.append(adjectives_vectors[key])\n",
    "    y_train.append(lexicon[key])\n",
    "\n",
    "x_train_np = np.array(x_train)\n",
    "y_train_np = np.array(y_train)\n",
    "\n",
    "# Train the model\n",
    "model.fit(x_train, y_train)\n",
    "\n",
    "lexicon_trained = {}\n",
    "for key in adjectives_vectors:\n",
    "    result = model.predict([adjectives_vectors[key]])\n",
    "    lexicon_trained[key] = result\n",
    "\n",
    "for key, value in itertools.islice(lexicon_trained.items(), 10):\n",
    "    print(key, \":\", value)"
   ]
  },
  {
   "cell_type": "markdown",
   "metadata": {},
   "source": [
    "SVR for one parameter:"
   ]
  },
  {
   "cell_type": "code",
   "execution_count": 12,
   "metadata": {},
   "outputs": [
    {
     "name": "stdout",
     "output_type": "stream",
     "text": [
      "abandoned : 0.36450785095391314\n",
      "able : 0.3430226031808837\n",
      "absolute : 0.3739781823882929\n",
      "adorable : 0.2804939785809792\n",
      "adventurous : 0.28793654132037694\n",
      "academic : 0.3520265512544812\n",
      "acceptable : 0.4220973767652725\n",
      "acclaimed : 0.3491158160135293\n",
      "accomplished : 0.30862103813915764\n",
      "accurate : 0.3540415527531092\n"
     ]
    }
   ],
   "source": [
    "from sklearn.svm import SVR\n",
    "from sklearn.multioutput import MultiOutputRegressor\n",
    "from sklearn.preprocessing import StandardScaler\n",
    "from sklearn.pipeline import make_pipeline\n",
    "\n",
    "# Create a pipeline with StandardScaler and SVR, wrapped in MultiOutputRegressor\n",
    "model = MultiOutputRegressor(make_pipeline(StandardScaler(), SVR(kernel='rbf', C=1.0)))\n",
    "\n",
    "x_train, y_train = [], []\n",
    "for key in lexicon.keys():\n",
    "    x_train.append(adjectives_vectors[key])\n",
    "    y_train.append([lexicon[key][0], 0])\n",
    "\n",
    "x_train_np = np.array(x_train)\n",
    "y_train_np = np.array(y_train)\n",
    "\n",
    "# Train the model\n",
    "model.fit(x_train, y_train)\n",
    "\n",
    "lexicon_trained = {}\n",
    "for key in adjectives_vectors:\n",
    "    result = model.predict([adjectives_vectors[key]])\n",
    "    lexicon_trained[key] = result[0][0]\n",
    "\n",
    "for key, value in itertools.islice(lexicon_trained.items(), 10):\n",
    "    print(key, \":\", value)"
   ]
  },
  {
   "cell_type": "markdown",
   "metadata": {},
   "source": [
    "SVR for each parameter separately:"
   ]
  },
  {
   "cell_type": "code",
   "execution_count": 14,
   "metadata": {},
   "outputs": [
    {
     "name": "stdout",
     "output_type": "stream",
     "text": [
      "abandoned : [0.36450785095391314, 0.27966768533887787, 0.3185944340447965, 0.50023933154893, 0.43714889590514383, 0.344196655118454]\n",
      "able : [0.3430226031808837, 0.3228829556090227, 0.2891797764790672, 0.5411248425277152, 0.47876259123198295, 0.358768061928111]\n",
      "absolute : [0.3739781823882929, 0.290977150491994, 0.32589258498838686, 0.517700500259393, 0.44704642886920065, 0.35855004237786536]\n",
      "adorable : [0.2804939785809792, 0.26668014253660194, 0.2728305555258477, 0.4154300568807142, 0.587373663684237, 0.4842147506961325]\n",
      "adventurous : [0.28793654132037694, 0.2865437779274545, 0.25081812588681457, 0.4827349869612562, 0.5714201072555158, 0.526997777242216]\n",
      "academic : [0.3520265512544812, 0.2749065530747645, 0.31864453221768485, 0.53357321156012, 0.45016867875657973, 0.3773946586718183]\n",
      "acceptable : [0.4220973767652725, 0.31427118470015436, 0.32262798564378603, 0.5098495810101824, 0.43412611489875147, 0.3238209382193609]\n",
      "acclaimed : [0.3491158160135293, 0.2636522751214867, 0.304698081316188, 0.5340037688404373, 0.4881627805774292, 0.40375973110061997]\n",
      "accomplished : [0.30862103813915764, 0.2553402981886722, 0.2584167193987268, 0.5521764172252573, 0.5641153498700954, 0.4718920681640089]\n",
      "accurate : [0.3540415527531092, 0.27981557665636553, 0.3086205681272145, 0.5376305619017122, 0.4698286731483058, 0.38353912144402474]\n"
     ]
    }
   ],
   "source": [
    "lexicon_trained = {}\n",
    "for key in adjectives_vectors:\n",
    "    lexicon_trained[key] = [0, 0, 0, 0, 0, 0]\n",
    "\n",
    "from sklearn.svm import SVR\n",
    "from sklearn.multioutput import MultiOutputRegressor\n",
    "from sklearn.preprocessing import StandardScaler\n",
    "from sklearn.pipeline import make_pipeline\n",
    "\n",
    "for i in range(6):\n",
    "    # Create a pipeline with StandardScaler and SVR, wrapped in MultiOutputRegressor\n",
    "    model = MultiOutputRegressor(make_pipeline(StandardScaler(), SVR(kernel='rbf', C=1.0)))\n",
    "\n",
    "    x_train, y_train = [], []\n",
    "    for key in lexicon.keys():\n",
    "        x_train.append(adjectives_vectors[key])\n",
    "        y_train.append([lexicon[key][i], 0])\n",
    "\n",
    "    x_train_np = np.array(x_train)\n",
    "    y_train_np = np.array(y_train)\n",
    "\n",
    "    # Train the model\n",
    "    model.fit(x_train, y_train)\n",
    "\n",
    "    for key in adjectives_vectors:\n",
    "        result = model.predict([adjectives_vectors[key]])\n",
    "        lexicon_trained[key][i] = result[0][0]\n",
    "\n",
    "for key, value in itertools.islice(lexicon_trained.items(), 10):\n",
    "    print(key, \":\", value)\n"
   ]
  },
  {
   "cell_type": "markdown",
   "metadata": {},
   "source": [
    "TODO:\n",
    "- try dimensionality reduction / kohonen maps\n",
    "- fuzzy logic automated rule generation\n",
    "- fl application\n",
    "- validation\n",
    "- text processing\n"
   ]
  },
  {
   "cell_type": "code",
   "execution_count": 15,
   "metadata": {},
   "outputs": [],
   "source": [
    "validation_data = {'lonely' : [0, 0, 0.8, 0.5, 0, 0]}"
   ]
  },
  {
   "cell_type": "markdown",
   "metadata": {},
   "source": [
    "## Lets try principal component analysis"
   ]
  },
  {
   "cell_type": "code",
   "execution_count": 17,
   "metadata": {},
   "outputs": [
    {
     "name": "stdout",
     "output_type": "stream",
     "text": [
      "Explained variance ratio: [0.13988787 0.12037184]\n"
     ]
    },
    {
     "data": {
      "image/png": "[encoded data removed]",
      "text/plain": [
       "<Figure size 800x600 with 1 Axes>"
      ]
     },
     "metadata": {},
     "output_type": "display_data"
    }
   ],
   "source": [
    "import numpy as np\n",
    "import matplotlib.pyplot as plt\n",
    "from sklearn.decomposition import PCA\n",
    "\n",
    "lexicon_embedded = {}\n",
    "\n",
    "for word in lexicon.keys():\n",
    "    lexicon_embedded[word] = adjectives_vectors[word]\n",
    "\n",
    "# print(lexicon_embedded)\n",
    "\n",
    "# Convert dictionary values to a NumPy array\n",
    "X = np.array(list(lexicon_embedded.values()))\n",
    "\n",
    "# Apply PCA (keep top 2 components for visualization)\n",
    "pca = PCA(n_components=2)\n",
    "X_pca = pca.fit_transform(X)\n",
    "\n",
    "# Print explained variance ratio\n",
    "print(\"Explained variance ratio:\", pca.explained_variance_ratio_)\n",
    "\n",
    "# Plot PCA components\n",
    "plt.figure(figsize=(8, 6))\n",
    "plt.scatter(X_pca[:, 0], X_pca[:, 1], marker='o')\n",
    "\n",
    "# Annotate points with dictionary keys\n",
    "for i, key in enumerate(lexicon_embedded.keys()):\n",
    "    plt.annotate(key, (X_pca[i, 0], X_pca[i, 1]))\n",
    "\n",
    "plt.xlabel(\"Principal Component 1\")\n",
    "plt.ylabel(\"Principal Component 2\")\n",
    "plt.title(\"PCA of Vectors\")\n",
    "plt.grid()\n",
    "plt.show()"
   ]
  },
  {
   "cell_type": "code",
   "execution_count": 18,
   "metadata": {},
   "outputs": [
    {
     "data": {
      "image/png": "[encoded data removed]",
      "text/plain": [
       "<Figure size 800x500 with 1 Axes>"
      ]
     },
     "metadata": {},
     "output_type": "display_data"
    },
    {
     "name": "stdout",
     "output_type": "stream",
     "text": [
      "        Feature  Importance\n",
      "99  Feature 100    0.125084\n",
      "78   Feature 79    0.077901\n",
      "70   Feature 71    0.073258\n",
      "3     Feature 4    0.071192\n",
      "73   Feature 74    0.067323\n",
      "24   Feature 25    0.055477\n",
      "34   Feature 35    0.038858\n",
      "98   Feature 99    0.031996\n",
      "94   Feature 95    0.031529\n",
      "51   Feature 52    0.028717\n"
     ]
    }
   ],
   "source": [
    "from sklearn.ensemble import RandomForestRegressor\n",
    "from sklearn.preprocessing import StandardScaler\n",
    "import pandas as pd\n",
    "\n",
    "vlexicon_embedded = {}\n",
    "\n",
    "for word in lexicon.keys():\n",
    "    lexicon_embedded[word] = adjectives_vectors[word]\n",
    "\n",
    "X = np.array(list(lexicon_embedded.values()))\n",
    "y = np.array([v[0] for v in lexicon.values()])\n",
    "\n",
    "# Standardize the features\n",
    "scaler = StandardScaler()\n",
    "X_scaled = scaler.fit_transform(X)\n",
    "\n",
    "# Train a Random Forest Regressor\n",
    "rf = RandomForestRegressor(n_estimators=100, random_state=42)\n",
    "rf.fit(X_scaled, y)\n",
    "\n",
    "# Get feature importances\n",
    "importance_rf = rf.feature_importances_\n",
    "\n",
    "feature_names = [f\"Feature {i+1}\" for i in range(X.shape[1])]\n",
    "\n",
    "# Plot feature importance\n",
    "plt.figure(figsize=(8, 5))\n",
    "plt.bar(feature_names, importance_rf, color=\"green\")\n",
    "plt.xlabel(\"Feature\")\n",
    "plt.ylabel(\"Importance Score\")\n",
    "plt.title(\"Feature Influence on Score (Random Forest)\")\n",
    "plt.show()\n",
    "\n",
    "# Print feature importance\n",
    "feature_importance_rf = pd.DataFrame({\"Feature\": feature_names, \"Importance\": importance_rf})\n",
    "print(feature_importance_rf.sort_values(by=\"Importance\", ascending=False)[:10])\n"
   ]
  },
  {
   "cell_type": "code",
   "execution_count": 19,
   "metadata": {},
   "outputs": [
    {
     "name": "stdout",
     "output_type": "stream",
     "text": [
      "Indexes of most important features: [ 3 24 70 73 78 99]\n"
     ]
    }
   ],
   "source": [
    "# Get indexes of features with importance > 0.04\n",
    "important_feature_indexes = np.where(importance_rf > 0.04)[0]\n",
    "\n",
    "# Print result\n",
    "print(\"Indexes of most important features:\", important_feature_indexes)"
   ]
  },
  {
   "cell_type": "code",
   "execution_count": 20,
   "metadata": {},
   "outputs": [
    {
     "name": "stdout",
     "output_type": "stream",
     "text": [
      "abandoned : [0.5486681878355949, 0, 0, 0, 0, 0]\n",
      "able : [0.2786191329553097, 0, 0, 0, 0, 0]\n",
      "absolute : [0.4494940066117147, 0, 0, 0, 0, 0]\n",
      "adorable : [0.3354374792276974, 0, 0, 0, 0, 0]\n",
      "adventurous : [0.30175081906132595, 0, 0, 0, 0, 0]\n",
      "academic : [0.10654594475349505, 0, 0, 0, 0, 0]\n",
      "acceptable : [0.3548064934405259, 0, 0, 0, 0, 0]\n",
      "acclaimed : [0.3922733839885639, 0, 0, 0, 0, 0]\n",
      "accomplished : [0.1963125107184642, 0, 0, 0, 0, 0]\n",
      "accurate : [0.547483080029996, 0, 0, 0, 0, 0]\n"
     ]
    }
   ],
   "source": [
    "lexicon_trained = {}\n",
    "for key in adjectives_vectors:\n",
    "    lexicon_trained[key] = [0, 0, 0, 0, 0, 0]\n",
    "\n",
    "from sklearn.svm import SVR\n",
    "from sklearn.multioutput import MultiOutputRegressor\n",
    "from sklearn.preprocessing import StandardScaler\n",
    "from sklearn.pipeline import make_pipeline\n",
    "\n",
    "    # Create a pipeline with StandardScaler and SVR, wrapped in MultiOutputRegressor\n",
    "model = MultiOutputRegressor(make_pipeline(StandardScaler(), SVR(kernel='rbf', C=1.0)))\n",
    "\n",
    "x_train, y_train = [], []\n",
    "for key in lexicon.keys():\n",
    "    important_values = []\n",
    "    for i in important_feature_indexes:\n",
    "        important_values.append(adjectives_vectors[key][i])\n",
    "    x_train.append(important_values)\n",
    "    y_train.append([lexicon[key][0], 0])\n",
    "\n",
    "x_train_np = np.array(x_train)\n",
    "y_train_np = np.array(y_train)\n",
    "\n",
    "    # Train the model\n",
    "model.fit(x_train, y_train)\n",
    "\n",
    "for key in adjectives_vectors:\n",
    "    important_values = []\n",
    "    for i in important_feature_indexes:\n",
    "        important_values.append(adjectives_vectors[key][i])\n",
    "    result = model.predict([important_values])\n",
    "    lexicon_trained[key][0] = result[0][0]\n",
    "\n",
    "for key, value in itertools.islice(lexicon_trained.items(), 10):\n",
    "    print(key, \":\", value)\n"
   ]
  },
  {
   "cell_type": "markdown",
   "metadata": {},
   "source": [
    "## All together, from the very beginning, one by one: important steps:"
   ]
  },
  {
   "cell_type": "code",
   "execution_count": 10,
   "metadata": {},
   "outputs": [],
   "source": [
    "# imports section\n",
    "import numpy as np\n",
    "import math\n",
    "from numpy import dot\n",
    "from numpy.linalg import norm\n",
    "from gensim import corpora, models, similarities\n",
    "import string\n",
    "\n",
    "import gensim.downloader as api\n",
    "from gensim.models import Word2Vec\n",
    "\n",
    "import itertools\n",
    "\n",
    "import json\n",
    "from nltk.stem import WordNetLemmatizer\n",
    "from nltk.stem import PorterStemmer"
   ]
  },
  {
   "cell_type": "code",
   "execution_count": 2,
   "metadata": {},
   "outputs": [],
   "source": [
    "# vectorization example:\n",
    "# Define the lexicon with mood vectors\n",
    "moods = {0: \"Angry\", 1: \"Worried\", 2: \"Sad\", 3: \"Calm\", 4: \"Happy\", 5: \"Excited\"}\n",
    "moods_indeces = {y.lower(): x for x, y in moods.items()}\n",
    "\n",
    "lexicon = {\n",
    "    \"anxious\": [0.3, 0.9, 0.4, 0, 0, 0.1], \"furious\": [0.9, 0.3, 0.2, 0, 0, 0],\n",
    "    \"peaceful\": [0, 0, 0, 1, 0.4, 0.2], \"hate\": [0.9, 0.3, 0.3, 0, 0, 0],\n",
    "    \"joyful\": [0, 0, 0, 0.2, 0.9, 0.7], \"unacceptable\": [0.9, 0.6, 0.6, 0, 0, 0],\n",
    "    \"thrilled\": [0, 0, 0, 0, 0.6, 1], \"infuriating\": [0.9, 0.8, 0.6, 0, 0, 0],\n",
    "    \"irate\": [0.9, 0.2, 0.1, 0, 0, 0], \"terrible\": [0.9, 0.7, 0.7, 0, 0, 0],\n",
    "    \"nervous\": [0.2, 0.8, 0.3, 0.1, 0, 0.2], \"melancholy\": [0.1, 0.4, 0.9, 0.2, 0, 0], \n",
    "    \"depressed\": [0.1, 0.1, 0.9, 0.2, 0, 0], \"gloomy\": [0.1, 0.1, 0.8, 0.3, 0, 0], \n",
    "    \"serene\": [0, 0, 0, 0.9, 0.8, 0.9], \"elated\": [0, 0, 0, 0.1, 0.8, 0.9],\n",
    "    \"ecstatic\": [0, 0, 0, 0, 0.7, 1], \"overjoyed\": [0.1, 0.1, 0.1, 0.1, 1, 0.9], \n",
    "    \"gleeful\": [0.1, 0.1, 0.1, 0.1, 0.9, 0.8], \"cheerful\": [0.1, 0.1, 0.1, 0.1, 0.8, 0.5], \n",
    "    \"optimistic\": [0.1, 0.2, 0.1, 0.7, 0.8, 0.6], \"buoyant\": [0.1, 0.2, 0.1, 0.8, 0.7, 0.7], \n",
    "    \"enthusiastic\": [0.2, 0.3, 0.1, 0.6, 0.8, 0.9], \"upbeat\": [0.1, 0.2, 0.1, 0.7, 0.8, 0.7], \n",
    "    \"festive\": [0.1, 0.1, 0.1, 0.7, 0.8, 0.7], \"playful\": [0.1, 0.2, 0.1, 0.6, 0.7, 0.8], \n",
    "    \"vivacious\": [0.1, 0.2, 0.1, 0.6, 0.8, 0.7], \"jovial\": [0.1, 0.2, 0.1, 0.7, 0.8, 0.7], \n",
    "    \"amused\": [0.1, 0.2, 0.1, 0.6, 0.7, 0.7], \"blissful\": [0.1, 0.1, 0.1, 0.8, 0.9, 0.7], \n",
    "    \"grateful\": [0.1, 0.1, 0.1, 0.8, 0.9, 0.7], \"tranquil\": [0.1, 0.1, 0.1, 0.9, 0.8, 0.6], \n",
    "    \"relaxed\": [0.1, 0.1, 0.1, 0.9, 0.8, 0.6], \"comfortable\": [0.1, 0.1, 0.1, 0.8, 0.8, 0.6], \n",
    "    \"cozy\": [0.1, 0.1, 0.1, 0.8, 0.8, 0.6], \"warm\": [0.1, 0.1, 0.1, 0.8, 0.8, 0.6], \n",
    "    \"inviting\": [0.1, 0.1, 0.1, 0.8, 0.8, 0.6], \"satisfied\": [0.1, 0.1, 0.2, 0.6, 0.5, 0.3], \n",
    "    \"pleasant\": [0.1, 0.1, 0.1, 0.8, 0.8, 0.6], \"pleased\" : [0.1, 0.1, 0.1, 0.9, 0.8, 0.3], \n",
    "    \"mellow\": [0.1, 0.1, 0.1, 0.8, 0.8, 0.6], \"happy\": [0.1, 0.1, 0.1, 0.7, 1, 0.6]\n",
    "    }"
   ]
  },
  {
   "cell_type": "code",
   "execution_count": 4,
   "metadata": {},
   "outputs": [
    {
     "name": "stdout",
     "output_type": "stream",
     "text": [
      "abandoned : [ 0.43756    0.22949   -0.24099    0.42471   -0.25692    0.073755\n",
      " -0.096612   0.46294    0.85405    0.30859    0.35545    0.81983\n",
      "  0.20312   -0.1225     0.17376   -0.62581    0.48522    0.23915\n",
      " -0.24558   -0.11948    0.69671    0.57527    0.65548   -0.029388\n",
      " -0.19702   -0.4308    -0.77335   -0.5166    -0.201      0.48815\n",
      "  0.23728    0.31009   -0.25274   -0.042121  -0.19871   -0.17874\n",
      "  0.019558  -0.42301    0.0743    -0.073421  -0.57583   -0.30048\n",
      "  0.64496   -0.071048   0.52107    0.17243   -0.13616    0.97539\n",
      "  0.23503   -0.28925   -0.072434   0.10553    0.24934    0.82306\n",
      "  0.21013   -1.7977    -0.54545   -0.29966    1.0294     0.16126\n",
      "  0.081623   0.53188    0.20484    0.36831    0.7118    -0.23808\n",
      "  0.16678   -0.16994   -0.56703   -0.22874   -0.042396  -0.0065193\n",
      "  0.01364   -0.2084    -0.35861   -0.055815   0.16845    0.46759\n",
      " -0.9905     0.35124   -0.070496   0.20322   -0.20443    0.75299\n",
      " -0.70367    0.19664    0.045248  -0.044681  -0.95952    0.31755\n",
      " -0.11741   -0.39899    0.5355     0.89882   -1.0238    -0.39356\n",
      " -0.53247    0.59359    0.2244    -0.026774 ]\n",
      "able : [-0.26057   0.13497  -0.30116  -0.060855 -0.6226   -0.14868  -0.3421\n",
      "  0.010509  0.30815  -0.16048   0.23701   0.21842   0.31249  -0.47274\n",
      " -0.32105  -0.55265   0.45469   0.75399  -0.51536   0.24941   0.13832\n",
      " -0.24741   0.20935  -0.248    -0.41075  -0.45544  -0.35843  -0.57247\n",
      "  1.0253   -0.21348  -0.34057   0.79428  -0.3984    0.013216  0.78371\n",
      "  0.27445  -0.27586   0.11772   0.33587   0.044887 -0.40725  -0.058387\n",
      " -0.093796 -0.80225  -0.15635   0.16576   0.28127  -0.31268   0.075171\n",
      " -0.87361  -0.15511   0.12278   0.3186    1.0496    0.76569  -2.2818\n",
      " -0.042756 -0.36131   1.5883    0.26367   0.081247  0.72454  -0.66271\n",
      "  0.17178   0.90291   0.23845   0.10645   0.62819  -0.27068  -0.51977\n",
      "  0.16073  -0.63504   0.19489  -0.6877    0.29835  -0.066108 -0.60602\n",
      " -0.32513  -0.12218   0.095966  0.61644   0.18535  -0.73239  -0.012384\n",
      " -1.6379   -0.21334   0.72614   0.18554  -0.39467   0.07759   0.010402\n",
      " -0.028466  0.26891  -0.7474   -0.56966  -0.01743  -0.079698 -0.46821\n",
      "  0.32484  -0.078643]\n"
     ]
    }
   ],
   "source": [
    "# prepare data\n",
    "# load corpus\n",
    "corpus = api.load('glove-wiki-gigaword-100')\n",
    "vector = corpus['computer']\n",
    "# print(vector)\n",
    "\n",
    "# read adjactives file\n",
    "data = ''\n",
    "with open('../resources/sets/english-adjectives.txt', 'r') as file:\n",
    "    data = file.read().replace('\\n', ',')\n",
    "\n",
    "adjectives = data.split(',')\n",
    "# print(adjectives[:20])\n",
    "\n",
    "\n",
    "adjectives_vectors = {}\n",
    "\n",
    "for adjective in adjectives:\n",
    "    if adjective in corpus:\n",
    "        adjectives_vectors[adjective] = corpus[adjective]\n",
    "\n",
    "for key, value in itertools.islice(adjectives_vectors.items(), 2):\n",
    "    print(key, \":\", value)"
   ]
  },
  {
   "cell_type": "code",
   "execution_count": 5,
   "metadata": {},
   "outputs": [
    {
     "name": "stdout",
     "output_type": "stream",
     "text": [
      "Indexes of most important features for 0: [ 3 24 70 73 78 99]\n",
      "Indexes of most important features for 1: [ 6 57 77]\n",
      "Indexes of most important features for 2: [ 6 34 73 77 87]\n",
      "Indexes of most important features for 3: [ 3  8 41 42]\n",
      "Indexes of most important features for 4: [ 6  8 34 38 40 73 77]\n",
      "Indexes of most important features for 5: [ 8 34 38 40 53]\n",
      "abandoned : [0.5486681878355949, 0.47062416113222927, 0.38359808673471113, 0.4588480317556811, 0.12163844934457307, 0.09957475052909831]\n",
      "able : [0.2786191329553097, 0.20262337156979324, 0.06466568285103341, 0.23724384453675024, 0.6747227093815318, 0.2966139232023028]\n",
      "absolute : [0.4494940066117147, 0.33378779337734676, 0.31559845033282263, 0.6490652162333584, 0.5129485212228615, 0.5090630856701435]\n",
      "adorable : [0.3354374792276974, 0.0666724772120803, 0.158594782851804, 0.10601693686709868, 0.65561091839924, 0.7573534050125633]\n",
      "adventurous : [0.30175081906132595, 0.19666645918428138, 0.22543710150172871, 0.2644411066144988, 0.5480783947601672, 0.6906594808043144]\n",
      "academic : [0.10654594475349505, 0.3395435491840177, 0.41172720738386775, 0.5976909879118089, 0.40570562544249794, 0.2702476636573922]\n",
      "acceptable : [0.3548064934405259, 0.23298522858100795, 0.2719820724076737, 0.8348071598007777, 0.3755815976365574, 0.24197439979906152]\n",
      "acclaimed : [0.3922733839885639, 0.21033801957048184, 0.4112073636565213, 0.4646977280042556, 0.4066468497127978, 0.49181308972500937]\n",
      "accomplished : [0.1963125107184642, 0.16682683645817709, 0.33613343709329263, 0.6647788978740347, 0.4475409045395319, 0.6678310904489897]\n",
      "accurate : [0.547483080029996, 0.19614110987393485, 0.3021448844962678, 0.6679247349350413, 0.48481223886687724, 0.586179671857104]\n"
     ]
    }
   ],
   "source": [
    "# dimensionality reduction via random forest feature extraction, svm in cycle for every component\n",
    "\n",
    "from sklearn.ensemble import RandomForestRegressor\n",
    "from sklearn.preprocessing import StandardScaler\n",
    "import pandas as pd\n",
    "from sklearn.svm import SVR\n",
    "from sklearn.multioutput import MultiOutputRegressor\n",
    "from sklearn.preprocessing import StandardScaler\n",
    "from sklearn.pipeline import make_pipeline\n",
    "\n",
    "lexicon_embedded = {}\n",
    "\n",
    "for word in lexicon.keys():\n",
    "    lexicon_embedded[word] = adjectives_vectors[word]\n",
    "\n",
    "lexicon_trained = {}\n",
    "for key in adjectives_vectors:\n",
    "    lexicon_trained[key] = [0, 0, 0, 0, 0, 0]\n",
    "\n",
    "for i in range(6):\n",
    "    X = np.array(list(lexicon_embedded.values()))\n",
    "    y = np.array([v[i] for v in lexicon.values()])\n",
    "\n",
    "    # Standardize the features\n",
    "    scaler = StandardScaler()\n",
    "    X_scaled = scaler.fit_transform(X)\n",
    "\n",
    "    # Train a Random Forest Regressor\n",
    "    rf = RandomForestRegressor(n_estimators=100, random_state=42)\n",
    "    rf.fit(X_scaled, y)\n",
    "\n",
    "    # Get feature importances\n",
    "    importance_rf = rf.feature_importances_\n",
    "    # Get indexes of features with importance > 0.04\n",
    "    important_feature_indexes = np.where(importance_rf > 0.04)[0]\n",
    "\n",
    "    # Print result\n",
    "    print(f\"Indexes of most important features for {i}:\", important_feature_indexes)\n",
    "\n",
    "    # Create a pipeline with StandardScaler and SVR, wrapped in MultiOutputRegressor\n",
    "    model = MultiOutputRegressor(make_pipeline(StandardScaler(), SVR(kernel='rbf', C=1.0)))\n",
    "\n",
    "    x_train, y_train = [], []\n",
    "    for key in lexicon.keys():\n",
    "        important_values = []\n",
    "        for j in important_feature_indexes:\n",
    "            important_values.append(adjectives_vectors[key][j])\n",
    "        x_train.append(important_values)\n",
    "        y_train.append([lexicon[key][i], 0])\n",
    "\n",
    "    x_train_np = np.array(x_train)\n",
    "    y_train_np = np.array(y_train)\n",
    "\n",
    "    # Train the model\n",
    "    model.fit(x_train, y_train)\n",
    "\n",
    "    for key in adjectives_vectors:\n",
    "        important_values = []\n",
    "        for j in important_feature_indexes:\n",
    "            important_values.append(adjectives_vectors[key][j])\n",
    "        result = model.predict([important_values])\n",
    "        lexicon_trained[key][i] = result[0][0]\n",
    "\n",
    "for key, value in itertools.islice(lexicon_trained.items(), 10):\n",
    "    print(key, \":\", value)\n",
    "\n",
    "# moods = {0: \"Angry\", 1: \"Worried\", 2: \"Sad\", 3: \"Calm\", 4: \"Happy\", 5: \"Excited\"}"
   ]
  },
  {
   "cell_type": "code",
   "execution_count": null,
   "metadata": {},
   "outputs": [
    {
     "name": "stdout",
     "output_type": "stream",
     "text": [
      "['angry medium and worried medium and sad medium and calm medium and happy medium and excited medium then neutral', 'angry low and worried low then high_negative', 'happy medium and sad high then high_negative', 'angry medium and angry low then high_positive', 'excited high and angry medium then high_positive', 'worried low and happy low then high_negative', 'happy medium and worried high then high_negative', 'angry medium and sad low then positive', 'worried low and angry medium then neutral', 'excited high and worried low then negative']\n",
      "step: 0, average mse: 57.548417082575426\n",
      "step: 2, average mse: 22.03975814457759\n",
      "step: 4, average mse: 8.376542820200227\n",
      "step: 6, average mse: 11.987367451210325\n",
      "step: 8, average mse: 6.233797597931819\n",
      "step: 10, average mse: 6.471198347107426\n",
      "step: 12, average mse: 10.866411709308117\n",
      "step: 14, average mse: 6.335033057851226\n",
      "step: 16, average mse: 10.331134392279791\n",
      "step: 18, average mse: 6.307676922476044\n",
      "minimal mse: 6.208264462809917\n",
      "['angry medium and worried medium and sad medium and calm medium and happy medium and excited medium then neutral', 'happy high and sad medium then neutral', 'excited high and sad low then high_positive', 'calm low and angry high then high_negative', 'calm high and sad medium then high_negative', 'angry low and happy high then high_positive', 'happy low and calm medium then high_negative', 'angry medium and worried high then neutral', 'sad high and sad high then high_negative']\n"
     ]
    }
   ],
   "source": [
    "import csv\n",
    "from nltk.stem import PorterStemmer, WordNetLemmatizer\n",
    "from nltk.tokenize import word_tokenize\n",
    "\n",
    "import numpy as np\n",
    "import matplotlib.pyplot as plt\n",
    "import math\n",
    "import random\n",
    "\n",
    "import skfuzzy as fuzz\n",
    "from skfuzzy import control as ctrl\n",
    "\n",
    "from sklearn.metrics import mean_squared_error\n",
    "\n",
    "\n",
    "\n",
    "validation_array = [\n",
    "    [[0.1, 0.1, 0.9, 0.9, 0.1, 0.1], -5 ],\n",
    "    [[0.9, 0.9, 0.1, 0.1, 0.1, 0.1], -8 ],\n",
    "    [[0.9, 0.1, 0.9, 0.1, 0.1, 0.1], -7 ],\n",
    "    [[0.1, 0.9, 0.1, 0.1, 0.9, 0.1], 7 ],\n",
    "    [[0.1, 0.1, 0.1, 0.1, 0.9, 0.9], 9 ]\n",
    "]\n",
    "\n",
    "data_array = [row[0] for row in validation_array]\n",
    "validation = [row[1] for row in validation_array]\n",
    "\n",
    "moods_dict = {0: \"angry\", 1: \"worried\", 2: \"sad\", 3: \"calm\", 4: \"happy\", 5: \"excited\"}\n",
    "moods_indeces = {y.lower(): x for x, y in moods_dict.items()}\n",
    "\n",
    "moods = [\"angry\", \"worried\", \"sad\", \"calm\", \"happy\", \"excited\"]\n",
    "mood_score = [\"low\", \"medium\", \"high\"]\n",
    "predicator = [\"or\", \"and\"]\n",
    "output_score_linguistic = [\"high_negative\", \"negative\", \"neutral\", \"positive\", \"high_positive\"]\n",
    "\n",
    "# initial flrb population generation:\n",
    "population_size = 100\n",
    "rules_size = 9 # how many rules approximately in each rulebase\n",
    "\n",
    "def get_random_rule():\n",
    "    return random.choice(moods) + \" \" + random.choice(mood_score) + \" and \" + random.choice(moods) + \" \" + random.choice(mood_score) + \" then \" + random.choice(output_score_linguistic)\n",
    "\n",
    "\n",
    "# initial_population = [\"angry medium and worried medium and sad medium and calm medium and happy medium and excited medium then neutral\"]\n",
    "\n",
    "initial_rule = \"angry medium and worried medium and sad medium and calm medium and happy medium and excited medium then neutral\"\n",
    "flrb_population = []\n",
    "\n",
    "for i in range(population_size):\n",
    "    fl_rb = []\n",
    "    fl_rb.append(initial_rule)\n",
    "    for j in range(rules_size):\n",
    "        rule = get_random_rule()\n",
    "        fl_rb.append(rule)\n",
    "    flrb_population.append(fl_rb)\n",
    "\n",
    "print(flrb_population[1])\n",
    "\n",
    "emotion_intensity = np.arange(0, 11, 1)  # This could represent 0 to 10 scale of intensity\n",
    "output_score = np.arange(-10, 11, 1)     # This could represent a score from -10 (Highly Negative) to 10 (Highly Positive)\n",
    "\n",
    "antecedents = []\n",
    "\n",
    "# Create the fuzzy variables for inputs and output\n",
    "for i in range(len(moods_dict)):\n",
    "    antecedents.append(ctrl.Antecedent(emotion_intensity, moods_dict[i]))\n",
    "\n",
    "output = ctrl.Consequent(output_score, 'output')\n",
    "\n",
    "# Define fuzzy sets and membership functions for each variable\n",
    "for item in antecedents:\n",
    "    item.automf(names=['low', 'medium', 'high'])\n",
    "\n",
    "\n",
    "output['high_negative'] = fuzz.trimf(output_score, [-10, -7, -4])\n",
    "output['negative'] = fuzz.trimf(output_score, [-7, -4, -1])\n",
    "output['neutral'] = fuzz.trimf(output_score, [-3, 0, 3])\n",
    "output['positive'] = fuzz.trimf(output_score, [1, 4, 7])\n",
    "output['high_positive'] = fuzz.trimf(output_score, [4, 7, 10])\n",
    "\n",
    "def calculate_fuzzy(data_points, rulebase):\n",
    "    rules = []\n",
    "    for rule in rulebase:\n",
    "        predicates = rule.lower().split(' ')\n",
    "        ant_predicates = antecedents[moods_indeces[predicates[0]]][predicates[1]]\n",
    "        i = 2\n",
    "        while i < len(predicates) - 2:\n",
    "            if predicates[i] == 'or':\n",
    "                ant_predicates = ant_predicates | antecedents[moods_indeces[predicates[i+1]]][predicates[i+2]]\n",
    "            else:\n",
    "                ant_predicates = ant_predicates & antecedents[moods_indeces[predicates[i+1]]][predicates[i+2]]\n",
    "            i += 3\n",
    "        rules.append(ctrl.Rule(ant_predicates, output[predicates[len(predicates) - 1]]))\n",
    "\n",
    "    # Create the control system and simulation\n",
    "    emotion_ctrl = ctrl.ControlSystem(rules)\n",
    "    emotion_sim = ctrl.ControlSystemSimulation(emotion_ctrl)\n",
    "    output_vector = []\n",
    "\n",
    "    # Pass inputs to the ControlSystem using Antecedent labels with Pythonic API\n",
    "    for data_point in data_points:\n",
    "        for i,aggregated_mood in enumerate(data_point):\n",
    "            emotion_sim.input[moods_dict[i]] = (aggregated_mood) * 10\n",
    "        emotion_sim.compute()\n",
    "        output_vector.append(emotion_sim.output['output'])\n",
    "\n",
    "    # Crunch the numbers\n",
    "    \n",
    "    # output.view(sim=emotion_sim)\n",
    "    return output_vector\n",
    "\n",
    "def generate_new_population(progenitors, number_successors=90, mutation_rate=0.0):\n",
    "    new_population = list(progenitors)\n",
    "    for i in range(number_successors):\n",
    "        prog = random.sample(range(0, len(progenitors)), 2)\n",
    "        fl_rb = []\n",
    "        for j in range(rules_size):\n",
    "            if j != 0 and np.random.uniform(0, 1) < mutation_rate:\n",
    "                rule = get_random_rule()\n",
    "            else:\n",
    "                rule = progenitors[random.choice(prog)][j]\n",
    "            fl_rb.append(rule)\n",
    "        new_population.append(fl_rb)\n",
    "\n",
    "    return new_population\n",
    "\n",
    "\n",
    "steps = 100\n",
    "mutation_steps = [5,6,10,11,15,16,20,21,25,26,30,31,35,36,40,41,45,46,50,51,55,56,90,91]\n",
    "for i in range(steps):\n",
    "    mse = []\n",
    "    results = []\n",
    "    for rulebase in flrb_population:\n",
    "        res = calculate_fuzzy(data_array, rulebase)\n",
    "        results.append(res)\n",
    "        mse.append(mean_squared_error(validation, res))\n",
    "    prog = []\n",
    "    smallest_10_indices = sorted(range(len(mse)), key=lambda i: mse[i])[:10]\n",
    "    for j in range(len(flrb_population)):\n",
    "        if(j in smallest_10_indices):\n",
    "            prog.append(flrb_population[j])\n",
    "    \n",
    "    if i in mutation_steps:\n",
    "        new_population = generate_new_population(prog, mutation_rate=0.1)\n",
    "    else:   \n",
    "        new_population = generate_new_population(prog, mutation_rate=0.001)\n",
    "    if i % 2 == 0:\n",
    "        print(f'step: {i}, average mse: {sum(mse) / len(mse)}')\n",
    "    flrb_population = list(new_population)\n",
    "    i += 1\n",
    "\n",
    "min_mse = mse.index(min(mse))\n",
    "flrb_min = flrb_population[min_mse]\n",
    "print(f'minimal mse: {min(mse)}')\n",
    "print(flrb_min)\n",
    "\n",
    "with open(\"../resources/sets/outputs.json\", \"r\") as f:\n",
    "    data = json.load(f)\n",
    "\n",
    "# Update only the specific field\n",
    "data[\"nlp-sentiment\"][\"minimal-frlb\"] = flrb_min\n",
    "\n",
    "# Save it back without overwriting other parts\n",
    "with open(\"../resources/sets/outputs.json\", \"w\") as f:\n",
    "    json.dump(data, f, indent=4)"
   ]
  },
  {
   "cell_type": "code",
   "execution_count": 16,
   "metadata": {},
   "outputs": [
    {
     "name": "stdout",
     "output_type": "stream",
     "text": [
      "I absolutely hate everything about this situation, and it makes me furious that such incompetence could exist in the world!\n",
      "Text: i absolutely hate everything about this situation and it makes me furious that such incompetence could exist in the world\n",
      "Fuzzy Logic Result: -4.426765490605018\n",
      "This is completely unacceptable and infuriating, and I cannot believe that such a terrible outcome could happen despite all the efforts put in.\n",
      "Text: this is completely unacceptable and infuriating and i cannot believe that such a terrible outcome could happen despite all the efforts put in\n",
      "Fuzzy Logic Result: -2.2782242640126253\n",
      "I am very disappointed and frustrated with this situation, as it seems like everything that could go wrong has gone wrong, and it feels like no one cares about the consequences.\n",
      "Text: i am very disappointed and frustrated with this situation as it seems like everything that could go wrong has gone wrong and it feels like no one cares about the consequences\n",
      "Fuzzy Logic Result: -3.4999999999999987\n",
      "I'm not happy with the outcome, as it falls far short of what was promised and expected, leaving me feeling quite let down and disillusioned.\n",
      "Text: im not happy with the outcome as it falls far short of what was promised and expected leaving me feeling quite let down and disillusioned\n",
      "Fuzzy Logic Result: -1.3816982348172635\n",
      "I'm somewhat satisfied with the results, as they meet the minimum expectations, but there are still several aspects that could be enhanced to achieve a truly satisfactory experience.\n",
      "Text: im somewhat satisfied with the results as they meet the minimum expectations but there are still several aspects that could be enhanced to achieve a truly satisfactory experience\n",
      "Fuzzy Logic Result: -3.1777928453612234\n",
      "I'm quite pleased with how things turned out overall, as most of my expectations were met, and there were some positive surprises along the way.\n",
      "Text: im quite pleased with how things turned out overall as most of my expectations were met and there were some positive surprises along the way\n",
      "Fuzzy Logic Result: -3.6156747267795746\n",
      "This is very good, I'm happy with it, and I appreciate the effort that went into making this a successful outcome with only a few minor issues.\n",
      "Text: this is very good im happy with it and i appreciate the effort that went into making this a successful outcome with only a few minor issues\n",
      "Fuzzy Logic Result: -0.6722640247430428\n",
      "I'm absolutely thrilled and overjoyed with everything, as this has exceeded all my expectations and has brought a tremendous amount of satisfaction and joy to my experience!\n",
      "Text: im absolutely thrilled and overjoyed with everything as this has exceeded all my expectations and has brought a tremendous amount of satisfaction and joy to my experience\n",
      "Fuzzy Logic Result: -3.3949117296555893\n",
      "[0.05491467508210929, 0.10005381566104404, 0.05600102449889055, 0.10023032771031565, 0.7167478212927131, 0.9003500451994029]\n"
     ]
    }
   ],
   "source": [
    "with open(\"../resources/sets/outputs.json\", \"r\") as f:\n",
    "    data = json.load(f)\n",
    "\n",
    "flrb = data[\"nlp-sentiment\"][\"minimal-frlb\"]\n",
    "\n",
    "texts = [\n",
    "    \"I absolutely hate everything about this situation, and it makes me furious that such incompetence could exist in the world!\",\n",
    "    \"This is completely unacceptable and infuriating, and I cannot believe that such a terrible outcome could happen despite all the efforts put in.\",\n",
    "    \"I am very disappointed and frustrated with this situation, as it seems like everything that could go wrong has gone wrong, and it feels like no one cares about the consequences.\",\n",
    "    \"I'm not happy with the outcome, as it falls far short of what was promised and expected, leaving me feeling quite let down and disillusioned.\",\n",
    "    \"I'm somewhat satisfied with the results, as they meet the minimum expectations, but there are still several aspects that could be enhanced to achieve a truly satisfactory experience.\",\n",
    "    \"I'm quite pleased with how things turned out overall, as most of my expectations were met, and there were some positive surprises along the way.\",\n",
    "    \"This is very good, I'm happy with it, and I appreciate the effort that went into making this a successful outcome with only a few minor issues.\",\n",
    "    \"I'm absolutely thrilled and overjoyed with everything, as this has exceeded all my expectations and has brought a tremendous amount of satisfaction and joy to my experience!\"\n",
    "]\n",
    "\n",
    "for text in texts:\n",
    "    lemmatizer = WordNetLemmatizer()\n",
    "    stemmer = PorterStemmer()\n",
    "    print(text)\n",
    "\n",
    "    text = text.lower()\n",
    "    text = text.translate(str.maketrans('', '', string.punctuation))\n",
    "    words = word_tokenize(text)\n",
    "    words = [word for word in words if word.isalpha()]\n",
    "    # words = [word for word in words ]\n",
    "    words = [lemmatizer.lemmatize(word) for word in words]\n",
    "    words = [stemmer.stem(word) for word in words]\n",
    "\n",
    "    data_points = []\n",
    "    for i in range(len(moods_dict)):\n",
    "        data_points.append(0)\n",
    "    \n",
    "    used_words = 0\n",
    "\n",
    "    for word in words:\n",
    "        if word in lexicon_trained:\n",
    "            used_words += 1\n",
    "            for i in range(len(moods_dict)):\n",
    "                data_points[i] += lexicon_trained[word][i]\n",
    "    \n",
    "    for i in range(len(moods_dict)):\n",
    "        data_points[i] = data_points[i] / used_words\n",
    "\n",
    "    res = calculate_fuzzy([data_points], flrb)\n",
    "    print(f\"Text: {text}\")\n",
    "    print(f\"Fuzzy Logic Result: {res[0]}\")\n",
    "\n",
    "print(lexicon_trained['thrilled'])"
   ]
  },
  {
   "cell_type": "code",
   "execution_count": 39,
   "metadata": {},
   "outputs": [
    {
     "name": "stdout",
     "output_type": "stream",
     "text": [
      "[1, 2, 5, 8, 10]\n"
     ]
    }
   ],
   "source": [
    "arr = [2, 1, 5, 10, 8]\n",
    "print(sorted(arr))"
   ]
  },
  {
   "cell_type": "markdown",
   "metadata": {},
   "source": [
    "**Mean Squared Error**\n",
    "\n",
    "FLR : $(x_i) -> y^{(f)}_i$\n",
    "\n",
    "Test Data: $(x_i) -> y_i$\n",
    "\n",
    "$$\\sum_i (y_i - y^{(f)}_i)^2 $$\n",
    "\n",
    "\n",
    "**Genetic Algorithm Approach**\n",
    "\n",
    "1. Generate initial population: 100 FLRBs, with around 5 fuzzy rules each \n",
    "\n",
    "THink about how to initialize linguistic variables for each FLRB!\n",
    "\n",
    "2. Every step, use fitness function (mse) -> select 10 flrbs, use them to create 50 new flrbs, 40 more generate with random generator, repeat \n",
    "\n",
    "3. Introduce mutations \n",
    "\n",
    "\n",
    "\n"
   ]
  },
  {
   "cell_type": "markdown",
   "metadata": {},
   "source": [
    "**TODO**:\n",
    "\n",
    "1. cross-validation, fine tuning\n",
    "2. Find political data, find more words!\n",
    "3. fuzzy logic rule generation! (may be via evolut. algorithms)\n",
    "4. apply fl rules\n",
    "5. results!"
   ]
  },
  {
   "cell_type": "markdown",
   "metadata": {},
   "source": [
    "What we did!\n",
    "\n",
    "1. Lemmatization, stemming of text. Tf idf https://habr.com/ru/companies/otus/articles/755772/\n",
    "\n",
    "2. We tried Principal compoenent analysis, no success: https://www.geeksforgeeks.org/principal-component-analysis-pca/\n",
    "\n",
    "3. Random forest machine learning algorithm, random forest feature extraction. https://www.geeksforgeeks.org/feature-selection-using-random-forest/\n",
    "\n",
    "4. Support vector regression for principal compoinents. https://www.geeksforgeeks.org/support-vector-regression-svr-using-linear-and-non-linear-kernels-in-scikit-learn/\n",
    "\n",
    "5. Genetic algorithm for generating fuzzy logic rule sets. (article sent)\n",
    "\n",
    "6. Applying fuzzy logic rule base to our data points\n",
    "\n",
    "7. Cross validation. https://www.geeksforgeeks.org/cross-validation-machine-learning/"
   ]
  }
 ],
 "metadata": {
  "kernelspec": {
   "display_name": "Python 3",
   "language": "python",
   "name": "python3"
  },
  "language_info": {
   "codemirror_mode": {
    "name": "ipython",
    "version": 3
   },
   "file_extension": ".py",
   "mimetype": "text/x-python",
   "name": "python",
   "nbconvert_exporter": "python",
   "pygments_lexer": "ipython3",
   "version": "3.10.0"
  }
 },
 "nbformat": 4,
 "nbformat_minor": 2
}
